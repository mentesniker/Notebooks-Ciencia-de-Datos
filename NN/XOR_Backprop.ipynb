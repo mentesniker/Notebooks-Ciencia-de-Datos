{
  "nbformat": 4,
  "nbformat_minor": 0,
  "metadata": {
    "kernelspec": {
      "display_name": "Python 3",
      "language": "python",
      "name": "python3"
    },
    "language_info": {
      "codemirror_mode": {
        "name": "ipython",
        "version": 3
      },
      "file_extension": ".py",
      "mimetype": "text/x-python",
      "name": "python",
      "nbconvert_exporter": "python",
      "pygments_lexer": "ipython3",
      "version": "3.6.9"
    },
    "varInspector": {
      "cols": {
        "lenName": 16,
        "lenType": 16,
        "lenVar": 40
      },
      "kernels_config": {
        "python": {
          "delete_cmd_postfix": "",
          "delete_cmd_prefix": "del ",
          "library": "var_list.py",
          "varRefreshCmd": "print(var_dic_list())"
        },
        "r": {
          "delete_cmd_postfix": ") ",
          "delete_cmd_prefix": "rm(",
          "library": "var_list.r",
          "varRefreshCmd": "cat(var_dic_list()) "
        }
      },
      "types_to_exclude": [
        "module",
        "function",
        "builtin_function_or_method",
        "instance",
        "_Feature"
      ],
      "window_display": false
    },
    "colab": {
      "name": "XOR Backprop.ipynb",
      "provenance": []
    }
  },
  "cells": [
    {
      "cell_type": "markdown",
      "metadata": {
        "id": "3SzpPT_zWCAw"
      },
      "source": [
        "# XOR - Perceptrón y Retroprop"
      ]
    },
    {
      "cell_type": "markdown",
      "metadata": {
        "id": "31j2AM66WCA-"
      },
      "source": [
        "Vamos a constuir un perceptrón multicapa para entrenarlo a reconocer la tabla del XOR pero esta vez no asumiremos nada de los pesos y dejaremos que el algoritmo de retropropagación lo encuentre."
      ]
    },
    {
      "cell_type": "code",
      "metadata": {
        "id": "HZxoqVnFWCBA"
      },
      "source": [
        "from __future__ import absolute_import\n",
        "from __future__ import print_function\n",
        "from six.moves import range\n",
        "from six.moves import zip\n",
        "from numpy import hstack,exp,dot,ones,tanh,mean,abs,array\n",
        "import numpy as np\n",
        "import sys\n"
      ],
      "execution_count": null,
      "outputs": []
    },
    {
      "cell_type": "markdown",
      "metadata": {
        "id": "q_3bDLqaWCBC"
      },
      "source": [
        "## Perceptrón multicapa "
      ]
    },
    {
      "cell_type": "markdown",
      "metadata": {
        "id": "GwCEgT-RWCBD"
      },
      "source": [
        "Aquí definiremos las funciones que vamos a estar ocupando"
      ]
    },
    {
      "cell_type": "code",
      "metadata": {
        "id": "Sqc608wBWCBE"
      },
      "source": [
        "def fact(f='sigmoide'):\n",
        "    if f=='sigmoide':\n",
        "        return [lambda x: 1./(1+exp(-x)), lambda y: y*(1-y)]\n",
        "    elif f=='tanh':\n",
        "        return [tanh, lambda y: 1 - y**2]\n",
        "    elif f=='ident':\n",
        "        return [lambda x: x, lambda y: 1]\n",
        "\n",
        "def creapesos( arq ):\n",
        "    en,hn,sn = arq\n",
        "    Wh = 2*np.random.random( (en+1,hn) )-1\n",
        "    Ws = 2*np.random.random( (hn,sn) )-1\n",
        "    return [Wh, Ws]\n",
        "\n",
        "\n",
        "def ff(estimulo,pesos):\n",
        "    \"\"\"\n",
        "    predicción de la red\n",
        "    Función feed-forward que hace la predicción en el estíumulo \n",
        "    en el parámetro con los pesos especificados.\n",
        "    \"\"\"    \n",
        "    Wh, Ws = pesos\n",
        "    I = hstack((-1*ones((len(estimulo),1)),estimulo))\n",
        "    H = fh(dot(I,Wh))\n",
        "    S = fs(dot(H,Ws))\n",
        "    return S\n"
      ],
      "execution_count": null,
      "outputs": []
    },
    {
      "cell_type": "markdown",
      "metadata": {
        "id": "7ULeShk3WCBF"
      },
      "source": [
        "Como vamos a usar el descenso del gradiente con retropropagación, requerimos entonces un método que reciba los pesos origniales y que los actualice iteradamente."
      ]
    },
    {
      "cell_type": "code",
      "metadata": {
        "id": "VgrhN51vWCBG"
      },
      "source": [
        "def entrena(X,iters,alfa,pesos,iterr=1000,verbose=False):\n",
        "    Wh, Ws  = pesos\n",
        "    for j in range(iters):\n",
        "        #agregamos nodo sesgo\n",
        "        I = hstack((-1*ones((len(X[:]),1)), X[:]))\n",
        "        #feedforward\n",
        "        H = fh(dot(I,Wh))\n",
        "        #H = hstack((-1*ones((len(H),1)),H))\n",
        "        #print(\"H y Ws shapes\\n{} {}\".format(H.shape, Ws.shape))\n",
        "        S = fs(dot(H,Ws))\n",
        "        #error de la capa de salida\n",
        "        S_err = S - Y\n",
        "        #delta capa salida\n",
        "        S_d = S_err*dfs(S)\n",
        "        #error capa escondida\n",
        "        H_err = dot(S_d,Ws.T)\n",
        "        #delta capa escondida\n",
        "        H_d = H_err*dfh(H)\n",
        "        #actualizamos pesos\n",
        "        Ws    -= alfa * (dot(H.T,S_d))\n",
        "        Wh    -= alfa * (dot(I.T,H_d))\n",
        "        if(verbose):\n",
        "            if((iterr>0) and (j%iterr==0)):\n",
        "                print(mean(abs(S_err)))\n",
        "    return [Wh,Ws]\n"
      ],
      "execution_count": null,
      "outputs": []
    },
    {
      "cell_type": "markdown",
      "metadata": {
        "id": "5ugcjxiBWCBG"
      },
      "source": [
        "## Datos\n",
        "\n",
        "Nuestros datos a usar es simplemente la tabla del XOR."
      ]
    },
    {
      "cell_type": "code",
      "metadata": {
        "id": "tgXI4E_cWCBI",
        "outputId": "60210e15-4e61-4765-d5fe-8ed06a51ba04"
      },
      "source": [
        "xor = array( [[0,0,0],[0,1,1],[1,0,1],[1,1,0]] )\n",
        "X = xor[:,:-1]\n",
        "Y = xor[:,-1].reshape(-1,1)\n",
        "for x, y in zip(X,Y):\n",
        "    print(\"{} : {}\".format(x,y))"
      ],
      "execution_count": null,
      "outputs": [
        {
          "output_type": "stream",
          "text": [
            "[0 0] : [0]\n",
            "[0 1] : [1]\n",
            "[1 0] : [1]\n",
            "[1 1] : [0]\n"
          ],
          "name": "stdout"
        }
      ]
    },
    {
      "cell_type": "markdown",
      "metadata": {
        "id": "5taHeZUOWCBP"
      },
      "source": [
        "## Definición y entrenamiento."
      ]
    },
    {
      "cell_type": "code",
      "metadata": {
        "id": "K_k-ZEhwWCBR",
        "outputId": "ad0a9853-88f4-4a9d-99b9-d3c522f3d6ea"
      },
      "source": [
        "tipocapa1=\"sigmoide\"\n",
        "tipocapa2=\"sigmoide\"\n",
        "f1, f2 = fact(tipocapa1), fact(tipocapa2)\n",
        "fh, dfh = f1\n",
        "fs, dfs = f2\n",
        "\n",
        "#arquitectura\n",
        "# como recibimos un par ordenado y queremos predecir su\n",
        "# etiqueta entonces nuestra red empieza siendo\n",
        "# (2 , h, 1)\n",
        "# h la especificamos como 5\n",
        "intermedias = 5\n",
        "en, hn, sn = ( X.shape[1], intermedias, Y.shape[1] )\n",
        "\n",
        "cons_aprendizaje = 0.1\n",
        "iteraciones = 5000\n",
        "alfa, iters = (cons_aprendizaje, iteraciones)\n",
        "en, hn, sn = ( X.shape[1], intermedias, Y.shape[1] )\n",
        "Wh, Ws = creapesos( (en,hn,sn) )\n",
        "print(\"alfa: {}\".format(alfa))\n",
        "print(\"iteraciones: {}\".format(iters))\n",
        "print(\"arquitectura: {} {} {}\".format(en,hn,sn))\n",
        "print(\"pesos primera capa: {} {}\".format(Wh.shape,tipocapa1))\n",
        "print(\"pesos segunda capa: {} {}\".format(Ws.shape,tipocapa2))\n",
        "print(\"Datos \\n{}\".format(X))\n"
      ],
      "execution_count": null,
      "outputs": [
        {
          "output_type": "stream",
          "text": [
            "alfa: 0.1\n",
            "iteraciones: 5000\n",
            "arquitectura: 2 5 1\n",
            "pesos primera capa: (3, 5) sigmoide\n",
            "pesos segunda capa: (5, 1) sigmoide\n",
            "Datos \n",
            "[[0 0]\n",
            " [0 1]\n",
            " [1 0]\n",
            " [1 1]]\n"
          ],
          "name": "stdout"
        }
      ]
    },
    {
      "cell_type": "markdown",
      "metadata": {
        "id": "A0v87fxMWCBS"
      },
      "source": [
        "Previo al entrenamiento tenemos esto"
      ]
    },
    {
      "cell_type": "code",
      "metadata": {
        "id": "TPteoUtdWCBT",
        "outputId": "7621dca6-388b-4214-c9d8-e94ce2f3e9e2"
      },
      "source": [
        "err = 0.\n",
        "for x,y in zip(ff(X,[Wh,Ws]),Y):\n",
        "    err += (y-x)**2\n",
        "print(\"Error {}\".format(err.mean(axis=0)))\n"
      ],
      "execution_count": null,
      "outputs": [
        {
          "output_type": "stream",
          "text": [
            "Error 1.0508473440379815\n"
          ],
          "name": "stdout"
        }
      ]
    },
    {
      "cell_type": "markdown",
      "metadata": {
        "id": "WPtRK3jzWCBT"
      },
      "source": [
        "Entrenamos la red \n"
      ]
    },
    {
      "cell_type": "code",
      "metadata": {
        "id": "XzYH5r9RWCBU"
      },
      "source": [
        "#entrenamos\n",
        "pesos_t = entrena(X,iteraciones,alfa,[Wh,Ws])\n"
      ],
      "execution_count": null,
      "outputs": []
    },
    {
      "cell_type": "markdown",
      "metadata": {
        "id": "1qsBicHuWCBV"
      },
      "source": [
        "La red entrenada ahora computa así cada estímulo"
      ]
    },
    {
      "cell_type": "code",
      "metadata": {
        "id": "aBikd3K-WCBW",
        "outputId": "b48d46a1-510c-4786-cee3-74ad631a6b26"
      },
      "source": [
        "print(\"\\nRed Entrenada\")\n",
        "err = 0.\n",
        "for x,y in zip(ff(X,pesos_t),Y):\n",
        "    err += (y-x)**2\n",
        "print(\"Error {}\\n\".format(err.mean(axis=0)))"
      ],
      "execution_count": null,
      "outputs": [
        {
          "output_type": "stream",
          "text": [
            "\n",
            "Red Entrenada\n",
            "Error 0.032176453675260494\n",
            "\n"
          ],
          "name": "stdout"
        }
      ]
    },
    {
      "cell_type": "code",
      "metadata": {
        "id": "0aK4xWu1WCBX",
        "outputId": "44cac792-f528-4a0b-af15-05aa0e9119d2"
      },
      "source": [
        "for x,y in zip(Y, ff(X,pesos_t)):\n",
        "    print(\"x: {} <-> {} : y\".format(x,y))"
      ],
      "execution_count": null,
      "outputs": [
        {
          "output_type": "stream",
          "text": [
            "x: [0] <-> [0.08174302] : y\n",
            "x: [1] <-> [0.90787719] : y\n",
            "x: [1] <-> [0.91693318] : y\n",
            "x: [0] <-> [0.10053767] : y\n"
          ],
          "name": "stdout"
        }
      ]
    },
    {
      "cell_type": "markdown",
      "metadata": {
        "id": "zBDgiFX2WCBY"
      },
      "source": [
        "Los pesos se ven ahora como:"
      ]
    },
    {
      "cell_type": "code",
      "metadata": {
        "id": "sqb4ptP_WCBZ",
        "outputId": "d8941808-489d-4963-82ab-793043eb2eaa"
      },
      "source": [
        "print(\"pesos primera capa \\n{0}\".format(pesos_t[0]))\n",
        "print(\"pesos segunda capa \\n{0}\".format(pesos_t[1]))"
      ],
      "execution_count": null,
      "outputs": [
        {
          "output_type": "stream",
          "text": [
            "pesos primera capa \n",
            "[[ 1.34379603 -1.02133875  1.66356436 -2.57185979  0.91562941]\n",
            " [ 3.2340481  -4.33674384 -5.28522011 -5.49155552 -3.76135742]\n",
            " [-4.40447549 -4.30628457  3.82593696  6.34551723  2.31776561]]\n",
            "pesos segunda capa \n",
            "[[ 6.34516734]\n",
            " [-4.97512465]\n",
            " [ 8.28603427]\n",
            " [-6.55901425]\n",
            " [ 5.54380574]]\n"
          ],
          "name": "stdout"
        }
      ]
    },
    {
      "cell_type": "code",
      "metadata": {
        "id": "Uj3ewOPWWCBr"
      },
      "source": [
        ""
      ],
      "execution_count": null,
      "outputs": []
    }
  ]
}