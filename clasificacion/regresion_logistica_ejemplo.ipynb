{
  "nbformat": 4,
  "nbformat_minor": 0,
  "metadata": {
    "kernelspec": {
      "display_name": "Python 3",
      "language": "python",
      "name": "python3"
    },
    "language_info": {
      "codemirror_mode": {
        "name": "ipython",
        "version": 3
      },
      "file_extension": ".py",
      "mimetype": "text/x-python",
      "name": "python",
      "nbconvert_exporter": "python",
      "pygments_lexer": "ipython3",
      "version": "3.8.5"
    },
    "colab": {
      "name": "regresion_logistica_ejemplo.ipynb",
      "provenance": []
    }
  },
  "cells": [
    {
      "cell_type": "code",
      "metadata": {
        "id": "5kT7ec6W7KHH"
      },
      "source": [
        "# Importing modules\n",
        "import pandas as pd\n",
        "import matplotlib.pyplot as plt\n",
        "import seaborn as sns\n",
        "from sklearn.linear_model import LogisticRegression\n",
        "from sklearn.model_selection import StratifiedShuffleSplit\n",
        "from sklearn.metrics import confusion_matrix, accuracy_score"
      ],
      "execution_count": null,
      "outputs": []
    },
    {
      "cell_type": "code",
      "metadata": {
        "id": "m-Y__q_i7KHJ",
        "outputId": "4c580835-00f9-40fb-e7d5-f928a7e9f5ce"
      },
      "source": [
        "# Loading dataset and exploring for missing values\n",
        "heart = pd.read_csv(\"framingham.csv\")\n",
        "heart.head()\n",
        "#heart.isnull().sum()"
      ],
      "execution_count": null,
      "outputs": [
        {
          "output_type": "execute_result",
          "data": {
            "text/html": [
              "<div>\n",
              "<style scoped>\n",
              "    .dataframe tbody tr th:only-of-type {\n",
              "        vertical-align: middle;\n",
              "    }\n",
              "\n",
              "    .dataframe tbody tr th {\n",
              "        vertical-align: top;\n",
              "    }\n",
              "\n",
              "    .dataframe thead th {\n",
              "        text-align: right;\n",
              "    }\n",
              "</style>\n",
              "<table border=\"1\" class=\"dataframe\">\n",
              "  <thead>\n",
              "    <tr style=\"text-align: right;\">\n",
              "      <th></th>\n",
              "      <th>male</th>\n",
              "      <th>age</th>\n",
              "      <th>education</th>\n",
              "      <th>currentSmoker</th>\n",
              "      <th>cigsPerDay</th>\n",
              "      <th>BPMeds</th>\n",
              "      <th>prevalentStroke</th>\n",
              "      <th>prevalentHyp</th>\n",
              "      <th>diabetes</th>\n",
              "      <th>totChol</th>\n",
              "      <th>sysBP</th>\n",
              "      <th>diaBP</th>\n",
              "      <th>BMI</th>\n",
              "      <th>heartRate</th>\n",
              "      <th>glucose</th>\n",
              "      <th>TenYearCHD</th>\n",
              "    </tr>\n",
              "  </thead>\n",
              "  <tbody>\n",
              "    <tr>\n",
              "      <th>0</th>\n",
              "      <td>1</td>\n",
              "      <td>39</td>\n",
              "      <td>4.0</td>\n",
              "      <td>0</td>\n",
              "      <td>0.0</td>\n",
              "      <td>0.0</td>\n",
              "      <td>0</td>\n",
              "      <td>0</td>\n",
              "      <td>0</td>\n",
              "      <td>195.0</td>\n",
              "      <td>106.0</td>\n",
              "      <td>70.0</td>\n",
              "      <td>26.97</td>\n",
              "      <td>80.0</td>\n",
              "      <td>77.0</td>\n",
              "      <td>0</td>\n",
              "    </tr>\n",
              "    <tr>\n",
              "      <th>1</th>\n",
              "      <td>0</td>\n",
              "      <td>46</td>\n",
              "      <td>2.0</td>\n",
              "      <td>0</td>\n",
              "      <td>0.0</td>\n",
              "      <td>0.0</td>\n",
              "      <td>0</td>\n",
              "      <td>0</td>\n",
              "      <td>0</td>\n",
              "      <td>250.0</td>\n",
              "      <td>121.0</td>\n",
              "      <td>81.0</td>\n",
              "      <td>28.73</td>\n",
              "      <td>95.0</td>\n",
              "      <td>76.0</td>\n",
              "      <td>0</td>\n",
              "    </tr>\n",
              "    <tr>\n",
              "      <th>2</th>\n",
              "      <td>1</td>\n",
              "      <td>48</td>\n",
              "      <td>1.0</td>\n",
              "      <td>1</td>\n",
              "      <td>20.0</td>\n",
              "      <td>0.0</td>\n",
              "      <td>0</td>\n",
              "      <td>0</td>\n",
              "      <td>0</td>\n",
              "      <td>245.0</td>\n",
              "      <td>127.5</td>\n",
              "      <td>80.0</td>\n",
              "      <td>25.34</td>\n",
              "      <td>75.0</td>\n",
              "      <td>70.0</td>\n",
              "      <td>0</td>\n",
              "    </tr>\n",
              "    <tr>\n",
              "      <th>3</th>\n",
              "      <td>0</td>\n",
              "      <td>61</td>\n",
              "      <td>3.0</td>\n",
              "      <td>1</td>\n",
              "      <td>30.0</td>\n",
              "      <td>0.0</td>\n",
              "      <td>0</td>\n",
              "      <td>1</td>\n",
              "      <td>0</td>\n",
              "      <td>225.0</td>\n",
              "      <td>150.0</td>\n",
              "      <td>95.0</td>\n",
              "      <td>28.58</td>\n",
              "      <td>65.0</td>\n",
              "      <td>103.0</td>\n",
              "      <td>1</td>\n",
              "    </tr>\n",
              "    <tr>\n",
              "      <th>4</th>\n",
              "      <td>0</td>\n",
              "      <td>46</td>\n",
              "      <td>3.0</td>\n",
              "      <td>1</td>\n",
              "      <td>23.0</td>\n",
              "      <td>0.0</td>\n",
              "      <td>0</td>\n",
              "      <td>0</td>\n",
              "      <td>0</td>\n",
              "      <td>285.0</td>\n",
              "      <td>130.0</td>\n",
              "      <td>84.0</td>\n",
              "      <td>23.10</td>\n",
              "      <td>85.0</td>\n",
              "      <td>85.0</td>\n",
              "      <td>0</td>\n",
              "    </tr>\n",
              "  </tbody>\n",
              "</table>\n",
              "</div>"
            ],
            "text/plain": [
              "   male  age  education  currentSmoker  cigsPerDay  BPMeds  prevalentStroke  \\\n",
              "0     1   39        4.0              0         0.0     0.0                0   \n",
              "1     0   46        2.0              0         0.0     0.0                0   \n",
              "2     1   48        1.0              1        20.0     0.0                0   \n",
              "3     0   61        3.0              1        30.0     0.0                0   \n",
              "4     0   46        3.0              1        23.0     0.0                0   \n",
              "\n",
              "   prevalentHyp  diabetes  totChol  sysBP  diaBP    BMI  heartRate  glucose  \\\n",
              "0             0         0    195.0  106.0   70.0  26.97       80.0     77.0   \n",
              "1             0         0    250.0  121.0   81.0  28.73       95.0     76.0   \n",
              "2             0         0    245.0  127.5   80.0  25.34       75.0     70.0   \n",
              "3             1         0    225.0  150.0   95.0  28.58       65.0    103.0   \n",
              "4             0         0    285.0  130.0   84.0  23.10       85.0     85.0   \n",
              "\n",
              "   TenYearCHD  \n",
              "0           0  \n",
              "1           0  \n",
              "2           0  \n",
              "3           1  \n",
              "4           0  "
            ]
          },
          "metadata": {
            "tags": []
          },
          "execution_count": 74
        }
      ]
    },
    {
      "cell_type": "code",
      "metadata": {
        "id": "9Ndgv86b7KHK",
        "outputId": "91b7787c-2aa6-43c0-d344-0c0bd4aa1a01"
      },
      "source": [
        "heart_fill = heart\n",
        "heart_fill['cigsPerDay'].fillna(heart_fill.groupby('currentSmoker')['cigsPerDay'].transform('mean'),inplace=True)\n",
        "heart_fill['BPMeds'].fillna(heart_fill.groupby('prevalentHyp')['BPMeds'].transform('median'),inplace=True)\n",
        "heart_fill['totChol'].fillna(heart_fill.groupby('prevalentStroke')['totChol'].transform('mean'),inplace=True)\n",
        "heart_fill['BMI'].fillna(heart_fill.groupby('age')['BMI'].transform('mean'),inplace=True)\n",
        "heart_fill['heartRate'].fillna(heart_fill.groupby('sysBP')['heartRate'].transform('mean'),inplace=True)\n",
        "heart_fill['glucose'].fillna(heart_fill.groupby('diabetes')['glucose'].transform('mean'),inplace=True)\n",
        "heart_fill['education'].fillna(heart_fill.groupby('age')['education'].transform('mean'),inplace=True)\n",
        "heart.isnull().sum()"
      ],
      "execution_count": null,
      "outputs": [
        {
          "output_type": "execute_result",
          "data": {
            "text/plain": [
              "male               0\n",
              "age                0\n",
              "education          0\n",
              "currentSmoker      0\n",
              "cigsPerDay         0\n",
              "BPMeds             0\n",
              "prevalentStroke    0\n",
              "prevalentHyp       0\n",
              "diabetes           0\n",
              "totChol            0\n",
              "sysBP              0\n",
              "diaBP              0\n",
              "BMI                0\n",
              "heartRate          0\n",
              "glucose            0\n",
              "TenYearCHD         0\n",
              "dtype: int64"
            ]
          },
          "metadata": {
            "tags": []
          },
          "execution_count": 30
        }
      ]
    },
    {
      "cell_type": "code",
      "metadata": {
        "id": "rrDVR2Cp7KHL",
        "outputId": "0acd33ff-b49f-490a-de5d-e168e8fcf295"
      },
      "source": [
        "# Correlation matrix\n",
        "sns.heatmap(heart_fill.corr())"
      ],
      "execution_count": null,
      "outputs": [
        {
          "output_type": "execute_result",
          "data": {
            "text/plain": [
              "<AxesSubplot:>"
            ]
          },
          "metadata": {
            "tags": []
          },
          "execution_count": 31
        },
        {
          "output_type": "display_data",
          "data": {
            "image/png": "[encoded data removed]",
            "text/plain": [
              "<Figure size 432x288 with 2 Axes>"
            ]
          },
          "metadata": {
            "tags": [],
            "needs_background": "light"
          }
        }
      ]
    },
    {
      "cell_type": "code",
      "metadata": {
        "id": "vCi9XJCA7KHL",
        "outputId": "7ed3d80b-ad8d-4efa-dce7-ed3cd2141488"
      },
      "source": [
        "# Exploring response variable distribution (how can you build the mass function from this)\n",
        "heart_fill['TenYearCHD'].value_counts().plot(x=heart_fill['TenYearCHD'], kind='bar')"
      ],
      "execution_count": null,
      "outputs": [
        {
          "output_type": "execute_result",
          "data": {
            "text/plain": [
              "<AxesSubplot:>"
            ]
          },
          "metadata": {
            "tags": []
          },
          "execution_count": 35
        },
        {
          "output_type": "display_data",
          "data": {
            "image/png": "[encoded data removed]",
            "text/plain": [
              "<Figure size 432x288 with 1 Axes>"
            ]
          },
          "metadata": {
            "tags": [],
            "needs_background": "light"
          }
        }
      ]
    },
    {
      "cell_type": "code",
      "metadata": {
        "id": "iTH7NpXq7KHM",
        "outputId": "df6ab96c-caf8-488d-bcf4-97f180bf1615"
      },
      "source": [
        "# Exploring association between gender and CHD\n",
        "heart_fill_plot = heart_fill.copy()\n",
        "heart_fill_plot['male'] = heart_fill_plot['male'].replace({0:'female', 1:'male'})\n",
        "heart_fill_plot = heart_fill_plot.rename(columns={'male':'gender'})\n",
        "sns.countplot(data=heart_fill_plot,x='gender', hue='TenYearCHD')"
      ],
      "execution_count": null,
      "outputs": [
        {
          "output_type": "execute_result",
          "data": {
            "text/plain": [
              "<AxesSubplot:xlabel='gender', ylabel='count'>"
            ]
          },
          "metadata": {
            "tags": []
          },
          "execution_count": 40
        },
        {
          "output_type": "display_data",
          "data": {
            "image/png": "[encoded data removed]",
            "text/plain": [
              "<Figure size 432x288 with 1 Axes>"
            ]
          },
          "metadata": {
            "tags": [],
            "needs_background": "light"
          }
        }
      ]
    },
    {
      "cell_type": "code",
      "metadata": {
        "id": "aSyon20S7KHM",
        "outputId": "483e885f-4ac6-476c-e2ea-778a23eaad02"
      },
      "source": [
        "# Exploring relation between diabetes and CHD\n",
        "heart_fill_plot['diabetes'] = heart_fill_plot['diabetes'].replace({0:'no', 1:'yes'})\n",
        "sns.countplot(data=heart_fill_plot,x='diabetes', hue='TenYearCHD')"
      ],
      "execution_count": null,
      "outputs": [
        {
          "output_type": "execute_result",
          "data": {
            "text/plain": [
              "<AxesSubplot:xlabel='diabetes', ylabel='count'>"
            ]
          },
          "metadata": {
            "tags": []
          },
          "execution_count": 42
        },
        {
          "output_type": "display_data",
          "data": {
            "image/png": "[encoded data removed]",
            "text/plain": [
              "<Figure size 432x288 with 1 Axes>"
            ]
          },
          "metadata": {
            "tags": [],
            "needs_background": "light"
          }
        }
      ]
    },
    {
      "cell_type": "code",
      "metadata": {
        "id": "RDmww_ko7KHN"
      },
      "source": [
        "# Model implementation\n",
        "def logistic_regression_metrics(df, target, testSize):\n",
        "    split = StratifiedShuffleSplit(n_splits = 1, test_size = testSize, random_state = 42)\n",
        "    lr = LogisticRegression()\n",
        "    for train_index, test_index in split.split(df, df[target]):\n",
        "        train = df.loc[train_index]\n",
        "        test = df.loc[test_index]\n",
        "        \n",
        "        x = train.drop([target], axis = 1)\n",
        "        y = train[target]\n",
        "        \n",
        "        a = test.drop([target], axis=1)\n",
        "        b = test[target]\n",
        "        \n",
        "        lr.fit(x,y)\n",
        "        \n",
        "        predicted = lr.predict(a)\n",
        "        accuracy = accuracy_score(b, predicted)\n",
        "        c_m = confusion_matrix(b, predicted)\n",
        "        return print('Accuracy score:', accuracy, '\\n', 'Confusion matrix:\\n', c_m.T)"
      ],
      "execution_count": null,
      "outputs": []
    },
    {
      "cell_type": "code",
      "metadata": {
        "id": "cJfEL9387KHO",
        "outputId": "d7553496-3d43-4aeb-ed80-437eeb5f3424"
      },
      "source": [
        "logistic_regression_metrics(heart_fill, 'TenYearCHD', 0.2)"
      ],
      "execution_count": null,
      "outputs": [
        {
          "output_type": "stream",
          "text": [
            "Accuracy score: 0.8502358490566038 \n",
            " Confusion matrix:\n",
            " [[714 122]\n",
            " [  5   7]]\n"
          ],
          "name": "stdout"
        },
        {
          "output_type": "stream",
          "text": [
            "/home/rafa/.local/lib/python3.8/site-packages/sklearn/linear_model/_logistic.py:762: ConvergenceWarning: lbfgs failed to converge (status=1):\n",
            "STOP: TOTAL NO. of ITERATIONS REACHED LIMIT.\n",
            "\n",
            "Increase the number of iterations (max_iter) or scale the data as shown in:\n",
            "    https://scikit-learn.org/stable/modules/preprocessing.html\n",
            "Please also refer to the documentation for alternative solver options:\n",
            "    https://scikit-learn.org/stable/modules/linear_model.html#logistic-regression\n",
            "  n_iter_i = _check_optimize_result(\n"
          ],
          "name": "stderr"
        }
      ]
    },
    {
      "cell_type": "markdown",
      "metadata": {
        "id": "7S9IKAA47KHO"
      },
      "source": [
        "### Ejercicio: \n",
        "\n",
        "1. Normaliza o estandariza las variables numéricas del dataset y compara los valores de la matriz de confusión del modelo ajustado sobre este nuevo dataset estandarizado. ¿Notas alguna diferencia?\n",
        "\n",
        "2. ¿Recuerdas KNN?, ajusta un modelo de KNN para este dataset y compara la matriz de confusión obtenida, ¿qué modelo es más adecuado?, ¿por qué?\n",
        "\n",
        "### Generando un poco de intuición alrededor de la regresión logística:\n",
        "\n",
        "En el modelo de regresión logística tenemos una variable dependiente con distribución binomial. Por lo que en lugar de tener un modelo lineal de la forma:\n",
        "\n",
        "$$h(x)=\\hat Y = \\beta^TX$$\n",
        "\n",
        "tenemos que $\\hat Y$ será expresada de la siguiente manera:\n",
        "\n",
        "Consideremos $P\\{Y=1\\}=p$, entonces:\n",
        "\n",
        "$$\\hat Y = log({p\\over1-p}) = \\beta^TX~~~~~~~~~~(1)$$\n",
        "\n",
        "haciendo un poco de álgebra es fácil ver que:\n",
        "\n",
        "$$p = {1 \\over 1 + e^{-\\beta^TX}}~~~~~~~~~~(2)$$\n",
        "\n",
        "**Ejercicio:** prueba lo anterior.\n",
        "\n",
        "De $(1)$ podemos definir un concepto conocido como **razón de momios** u **odds ratio** por su nombre en inglés. El cual hace referencia a la expresión:\n",
        "\n",
        "$$p\\over1-p$$\n",
        "\n",
        "Nótese que esta expresión nos habla de qué tan grande o cuántas veces es más probable que ocurra el evento exitoso en relación con el evento fracaso. \n",
        "\n",
        "Por lo tanto si $p$ aumenta, la razón de momios también lo hace así. El logaritmo es una función monótona creciente, por lo que podemos concluir que el logaritmo de la razón de momios también se incrementa al incrementarse la probabilidad de éxito. \n",
        "\n",
        "Por lo tanto si el coeficiente $\\beta_i$ correspondiente a la variable independiente $X_i$ son positivos o grandes, éstos estarán contribuyendo positivamente al aumento de la probabilidad de detectar un éxito. De manera contraria si estos coeficientes son grandes pero negativos contribuirán a la disminución de la probabilidad de éxito, si el valor absoluto de algún coeficiente en particular es pequeño en comparación con el de los demás o cercano a cero podemos decir que dichas variables no afectan 'mucho' el ajuste generado.\n",
        "\n",
        "Estas mismas conclusiones se pueden generar a partir de la expresión $(2)$."
      ]
    }
  ]
}