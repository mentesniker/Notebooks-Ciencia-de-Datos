{
  "nbformat": 4,
  "nbformat_minor": 0,
  "metadata": {
    "kernelspec": {
      "display_name": "Python 3",
      "language": "python",
      "name": "python3"
    },
    "language_info": {
      "codemirror_mode": {
        "name": "ipython",
        "version": 3
      },
      "file_extension": ".py",
      "mimetype": "text/x-python",
      "name": "python",
      "nbconvert_exporter": "python",
      "pygments_lexer": "ipython3",
      "version": "3.8.5"
    },
    "colab": {
      "name": "precission_recall.ipynb",
      "provenance": []
    }
  },
  "cells": [
    {
      "cell_type": "markdown",
      "metadata": {
        "id": "OWU8SkN0lhRm"
      },
      "source": [
        "## Precisión (precision) vs cobertura/sensibilidad (recall/sensitivity)"
      ]
    },
    {
      "cell_type": "markdown",
      "metadata": {
        "id": "uSe6bpo6lhR0"
      },
      "source": [
        "Definiciones:\n",
        "\n",
        "Precisión: Total de verdaderos positivos diagnosticados por el modelo de prueba (prueba rápida en el ejemplo del virus SARS-Cov2) dividido entre el total de observaciones (individuos) clasificadas (diagnosticados) como positivas por el modelo de prueba.\n",
        "\n",
        "Cobertura/Sensibilidad: Total de verdaderos positivos diagnosticados por el modelo de prueba respecto al total de observaciones clasificadas como positivas mediante el modelo de entrenamiento (técnica de PCR en el caso del ejemplo del virus SARS-Cov2 o Gold Standard). También se le conoce como sensibilidad.\n",
        "\n",
        "La siguiente imagen busca esquematizar ambos conceptos, ésta fue tomada de: https://commons.wikimedia.org/wiki/File:Precisionrecall.svg"
      ]
    },
    {
      "cell_type": "markdown",
      "metadata": {
        "id": "8qnKXB14lhR1"
      },
      "source": [
        "![preciss_recall.png](https://upload.wikimedia.org/wikipedia/commons/2/26/Precisionrecall.svg)"
      ]
    },
    {
      "cell_type": "markdown",
      "metadata": {
        "id": "PI3JWOUulhR1"
      },
      "source": [
        "A continuación realizaremos un ejemplo para abordar ambos conceptos a partir de un conjunto de datos de pacientes que tienen una enfermedad cardiaca. La prueba diagnóstica o en otras palabras, el algoritmo clasificatorio que pondremos a prueba será K-Nearest-Neighbors (KNN), dicho algoritmo no será abordado en este momento pero nos servirá para contrastar estas dos métricas de evaluación (así como otras) y entender por qué son útiles para evaluar la calidad de un modelo clasificatorio."
      ]
    },
    {
      "cell_type": "code",
      "metadata": {
        "id": "yoWNAGNylhR2"
      },
      "source": [
        "# Loading modules\n",
        "import numpy as np\n",
        "import pandas as pd\n",
        "from sklearn.model_selection import train_test_split\n",
        "from sklearn.preprocessing import StandardScaler\n",
        "from sklearn.neighbors import KNeighborsClassifier\n",
        "from sklearn.metrics import confusion_matrix\n",
        "from sklearn.metrics import classification_report\n",
        "from sklearn.metrics import roc_curve\n",
        "from sklearn.metrics import roc_auc_score\n",
        "from sklearn.metrics import precision_recall_curve\n",
        "from sklearn.metrics import auc\n",
        "import matplotlib.pyplot as plt\n",
        "import seaborn as sns\n",
        "%matplotlib inline"
      ],
      "execution_count": null,
      "outputs": []
    },
    {
      "cell_type": "code",
      "metadata": {
        "id": "WPp0PEI6lhR3",
        "outputId": "c4522b19-d476-42af-cdd9-0b7d99d6b75a"
      },
      "source": [
        "# Loading dataset\n",
        "datos = pd.read_csv(\"heart.csv\")# Download your dataset from here https://www.kaggle.com/ronitf/heart-disease-uci\n",
        "datos.isnull().sum()# Checking for null elements in observations\n",
        "len(datos)# Verifying the total \"N\" of the dataset"
      ],
      "execution_count": null,
      "outputs": [
        {
          "output_type": "execute_result",
          "data": {
            "text/plain": [
              "303"
            ]
          },
          "metadata": {
            "tags": []
          },
          "execution_count": 4
        }
      ]
    },
    {
      "cell_type": "code",
      "metadata": {
        "id": "G3FficcLlhR5",
        "outputId": "bf3700e4-4108-4c56-d205-d37221ca8c3c"
      },
      "source": [
        "# Checking how many patients have the condition and how many not\n",
        "sns.countplot(datos['target'])\n",
        "# Add labels\n",
        "plt.title('Countplot of Target')\n",
        "plt.xlabel('target')\n",
        "plt.ylabel('Patients')\n",
        "plt.show()"
      ],
      "execution_count": null,
      "outputs": [
        {
          "output_type": "stream",
          "text": [
            "/home/rafa/.local/lib/python3.8/site-packages/seaborn/_decorators.py:36: FutureWarning: Pass the following variable as a keyword arg: x. From version 0.12, the only valid positional argument will be `data`, and passing other arguments without an explicit keyword will result in an error or misinterpretation.\n",
            "  warnings.warn(\n"
          ],
          "name": "stderr"
        },
        {
          "output_type": "display_data",
          "data": {
            "image/png": "[encoded data removed]",
            "text/plain": [
              "<Figure size 432x288 with 1 Axes>"
            ]
          },
          "metadata": {
            "tags": [],
            "needs_background": "light"
          }
        }
      ]
    },
    {
      "cell_type": "code",
      "metadata": {
        "id": "n7H-ztRKlhR5"
      },
      "source": [
        "# Separating dataset into Target and Input variables\n",
        "y = datos[\"target\"].values # Target variable, dependent variable.\n",
        "x = datos.drop([\"target\"], axis = 1) # Input variables, independent variables.\n",
        "\n",
        "#Scaling - mandatory for knn\n",
        "from sklearn.preprocessing import StandardScaler\n",
        "ss = StandardScaler()\n",
        "x = ss.fit_transform(x)\n",
        "\n",
        "#SPlitting into train and test\n",
        "X_train, X_test, y_train, y_test = train_test_split(x, y, test_size = 0.3) # 70% training and 30%"
      ],
      "execution_count": null,
      "outputs": []
    },
    {
      "cell_type": "markdown",
      "metadata": {
        "id": "JmbxyZBHlhR6"
      },
      "source": [
        "Un aspecto que aún no heos tratado es ¿cómo determinar la K óptima para un algoritmo clasificatorio?, existen varios criterios, sin embargo, los abordaremos en clases posteriores. De momento sepamos que dicho valor puede ser determinado a partir de un \"test score\" o puntaje de prueba calculado para varios valores de K, y en consecuencia el valor más alto nos indicará que número de grupos o \"clusters\" (K) es el adecuado.\n",
        "\n",
        "Para este ejemplo usaremos el valor de K = 3 para construir nuestro clasificador."
      ]
    },
    {
      "cell_type": "code",
      "metadata": {
        "id": "BX-eUcBDlhR6",
        "outputId": "5a528554-86e0-4f40-8765-7924ff02835b"
      },
      "source": [
        "#Setup a knn classifier with k=3 neighbors\n",
        "knn = KNeighborsClassifier(3)\n",
        "knn.fit(X_train, y_train)\n",
        "knn.score(X_test, y_test)\n",
        "knn.fit(X_train, y_train)"
      ],
      "execution_count": null,
      "outputs": [
        {
          "output_type": "execute_result",
          "data": {
            "text/plain": [
              "KNeighborsClassifier(n_neighbors=3)"
            ]
          },
          "metadata": {
            "tags": []
          },
          "execution_count": 7
        }
      ]
    },
    {
      "cell_type": "markdown",
      "metadata": {
        "id": "su15A_HUlhR7"
      },
      "source": [
        "Ahora bien, ¿cómo evaluamos si el desempeño del clasificador es bueno o malo?\n",
        "\n",
        "Pues utilizando nuestras métricas de evaluación y para obtenerlas tenemos que construir nuestra matriz de confusión:"
      ]
    },
    {
      "cell_type": "code",
      "metadata": {
        "id": "QGi5RJ8olhR7",
        "outputId": "ca5c391b-f855-40fc-8521-2aaf83a8c7b6"
      },
      "source": [
        "# Building confussion matrix\n",
        "y_pred = knn.predict(X_test)\n",
        "confusion_matrix(y_pred,y_test)\n",
        "pd.crosstab(y_pred, y_test, rownames = ['Predicted'], colnames = ['Actual'], margins = True)"
      ],
      "execution_count": null,
      "outputs": [
        {
          "output_type": "execute_result",
          "data": {
            "text/html": [
              "<div>\n",
              "<style scoped>\n",
              "    .dataframe tbody tr th:only-of-type {\n",
              "        vertical-align: middle;\n",
              "    }\n",
              "\n",
              "    .dataframe tbody tr th {\n",
              "        vertical-align: top;\n",
              "    }\n",
              "\n",
              "    .dataframe thead th {\n",
              "        text-align: right;\n",
              "    }\n",
              "</style>\n",
              "<table border=\"1\" class=\"dataframe\">\n",
              "  <thead>\n",
              "    <tr style=\"text-align: right;\">\n",
              "      <th>Actual</th>\n",
              "      <th>0</th>\n",
              "      <th>1</th>\n",
              "      <th>All</th>\n",
              "    </tr>\n",
              "    <tr>\n",
              "      <th>Predicted</th>\n",
              "      <th></th>\n",
              "      <th></th>\n",
              "      <th></th>\n",
              "    </tr>\n",
              "  </thead>\n",
              "  <tbody>\n",
              "    <tr>\n",
              "      <th>0</th>\n",
              "      <td>33</td>\n",
              "      <td>7</td>\n",
              "      <td>40</td>\n",
              "    </tr>\n",
              "    <tr>\n",
              "      <th>1</th>\n",
              "      <td>12</td>\n",
              "      <td>39</td>\n",
              "      <td>51</td>\n",
              "    </tr>\n",
              "    <tr>\n",
              "      <th>All</th>\n",
              "      <td>45</td>\n",
              "      <td>46</td>\n",
              "      <td>91</td>\n",
              "    </tr>\n",
              "  </tbody>\n",
              "</table>\n",
              "</div>"
            ],
            "text/plain": [
              "Actual      0   1  All\n",
              "Predicted             \n",
              "0          33   7   40\n",
              "1          12  39   51\n",
              "All        45  46   91"
            ]
          },
          "metadata": {
            "tags": []
          },
          "execution_count": 33
        }
      ]
    },
    {
      "cell_type": "markdown",
      "metadata": {
        "id": "JuD3ByL9lhR8"
      },
      "source": [
        "## Ejercicio y definición de Exactitud (Accuracy) :"
      ]
    },
    {
      "cell_type": "markdown",
      "metadata": {
        "id": "c-ES_2CmlhR8"
      },
      "source": [
        "Calcula a partir de la matriz anterior los valores de Precisión (Precision), Sensibilidad o Cobertura (Recall) y el valor de Exactitud (Accuracy). Para esto puedes consultar el material que previamente se te compartió en donde viene la definición de Exactitud (o si no consulta wikipedia). Una vez calculados estos valores, ponte en la posición de un médico que debe de tomar una decisión en función de estas medidas y discute brevemente qué sería mejor en el caso que estamos abordando:\n",
        " 1. ¿Que la prueba detecte más a los verdaderos positivos (alta Sensibilidad)? y/o ¿que de los positivos que detecte la prueba se tengan pocos falsos positivos (alta Precisión)?\n",
        " 2. ¿Con base en el ejemplo anterior, podría ocurrir un caso hipotético en el que tuvieras un alto valor de Exactitud y un bajo valor de Precisión y/o un bajo valor de Sensibilidad? En función de tu respuesta da un ejemplo de matriz de confusión que la soporte o argumenta por qué no puede darse un ejemplo así."
      ]
    },
    {
      "cell_type": "code",
      "metadata": {
        "id": "rj-VRmX9lhR9"
      },
      "source": [
        "# print(classification_report(y_test, y_pred)) Exercice correct calculations."
      ],
      "execution_count": null,
      "outputs": []
    },
    {
      "cell_type": "markdown",
      "metadata": {
        "id": "FGnk27mvlhR9"
      },
      "source": [
        "## Definición de valor de F1 (F1-score) :"
      ]
    },
    {
      "cell_type": "markdown",
      "metadata": {
        "id": "2R26G2yElhR9"
      },
      "source": [
        "A partir de la pregunta 2 te darás cuenta de que se pueden tener varios casos en cuanto a las métricas de evaluación para una prueba clasificatoria o clasificador. Hablaremos también de una métrica de evaluación que busca ponderar la calidad de la Precisión y la de la Sensibilidad, ya que existen ocasiones en que nos gustaría que ambas métricas fueran lo más altas posibles. Esto se logra a partir de la optimización del llamado valor de F1 (F1-score) el cual se define como la media armónica entre la Precisión y la Sensibilidad.\n",
        "\n",
        "$F1-score=$ ${Precisión~*~Sensibilidad} \\over {Precisión~+~Sensibilidad}$"
      ]
    },
    {
      "cell_type": "markdown",
      "metadata": {
        "id": "-cSMSQDWlhR9"
      },
      "source": [
        "## Curva ROC (Receiver Operating Characteristic): "
      ]
    },
    {
      "cell_type": "markdown",
      "metadata": {
        "id": "xTdJKcPKlhR-"
      },
      "source": [
        "Se trata de un gráfico bidimensional que en el caso de un clasificador binario (clasificador de dos categoría) muestra en el Eje-Y la Tasa de Verdaderos Positivos (True Positive Rate o TPR) contra la la Tasa de Falsos Positivos (False Positive Rate o FPR) en el Eje-X. Es importante mencionar que la Tasa de Verdaderos Positivos es otra manera de llamar a la Sensibilidad, también conocida como Cobertura o como Recall, mientras que la Tasa de Falsos Positivos recordemos que también es conocida como Valor-P en estadística y son todos aquellos individuos u observaciones en donde se cometió un error de Tipo 1, esta segunda tasa puede calcularse como 1-Especificidad, la cual es conocida como Tasa de Verdaderos Negativos o True Negative Rate).\n",
        "\n",
        "Sin embargo, dado el ejemplo anterior sólo tenemos un valor de TPR y uno de FPR, ¿cómo podemos entonces generar una curva o en otras palabras, más parejas de estos valores para graficarlos en dos dimensiones?\n",
        "\n",
        "Para responder lo anterior debemos notar algo, nosotros ya generamos un modelo clasificatorio con KNN para el dataset de enfermedades cardiácas. Dicho modelo \"decide\" si una observación del conjunto de prueba pertenece o no a una categoría a partir de una cierta probabilidad, éste valor se fija por convención en 0.5, por lo tanto si la probabilidad de que la observación pertenezca a una categoría supera dicho valor dicha observación será clasificada dentro de la categoría y viceversa. Esto no impide que modifiquemos el valor de dicho umbral y por lo tanto que seamos capaces de generar distintos valores de TPR y FPR para distintos valores del umbral de clasificación, que en consecuencia ahora sí podremos graficar como una curva y analizarla.\n",
        "\n",
        "Considerando esto generemos una curva ROC para nuestro clasificador con k=3:"
      ]
    },
    {
      "cell_type": "code",
      "metadata": {
        "id": "TgB-UZOmlhR-",
        "outputId": "ecd9131a-3a46-41a7-dc73-168c1adf613e"
      },
      "source": [
        "y_pred_proba = knn.predict_proba(X_test)[:,1]\n",
        "fpr, tpr, thresholds = roc_curve(y_test, y_pred_proba)# Generating\n",
        "print(thresholds)\n",
        "roc_auc = roc_auc_score(y_test, y_pred_proba)# Calculating Area Under the Curve\n",
        "plt.title('Receiver Operating Characteristic')\n",
        "plt.plot(fpr, tpr, 'b', label = 'AUC = %0.2f' % roc_auc)\n",
        "plt.legend(loc = 'lower right')\n",
        "plt.plot([0, 1], [0, 1],'r--')\n",
        "plt.xlim([0, 1])\n",
        "plt.ylim([0, 1])\n",
        "plt.ylabel('True Positive Rate')\n",
        "plt.xlabel('False Positive Rate')\n",
        "plt.show()"
      ],
      "execution_count": null,
      "outputs": [
        {
          "output_type": "stream",
          "text": [
            "[2.         1.         0.66666667 0.33333333 0.        ]\n"
          ],
          "name": "stdout"
        },
        {
          "output_type": "display_data",
          "data": {
            "image/png": "[encoded data removed]",
            "text/plain": [
              "<Figure size 432x288 with 1 Axes>"
            ]
          },
          "metadata": {
            "tags": []
          }
        }
      ]
    }
  ]
}
