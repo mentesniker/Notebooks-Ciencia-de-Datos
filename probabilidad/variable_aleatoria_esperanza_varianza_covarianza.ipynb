{
  "nbformat": 4,
  "nbformat_minor": 0,
  "metadata": {
    "kernelspec": {
      "display_name": "Python 3",
      "language": "python",
      "name": "python3"
    },
    "language_info": {
      "codemirror_mode": {
        "name": "ipython",
        "version": 3
      },
      "file_extension": ".py",
      "mimetype": "text/x-python",
      "name": "python",
      "nbconvert_exporter": "python",
      "pygments_lexer": "ipython3",
      "version": "3.8.5"
    },
    "colab": {
      "name": "variable_aleatoria_esperanza_varianza_covarianza.ipynb",
      "provenance": []
    }
  },
  "cells": [
    {
      "cell_type": "markdown",
      "metadata": {
        "id": "jYHLelJ6-mPp"
      },
      "source": [
        "## Variable aleatoria\n",
        "\n",
        "Es común que cuando realizamos un experimento no estemos interesados tal cual en el resultado del experimento sino en una función de dicho resultado, a esta función se le conoce como variable aleatoria.\n",
        "\n",
        "Sea $E$ un experimento y $\\Omega$ el espacio muestral inducido. Entendemos por variable aleatoria denotada por $X$ a aquella función definida como:\n",
        "\n",
        "$$X:\\Omega\\rightarrow{\\rm I\\!R}$$\n",
        "\n",
        "Existen **dos tipos de variables aleatorias, las discretas y las continuas**. De momento hablaremos de las **variables aleatorias discretas**, éstaspueden tomar a lo más un conjunto numerable de valores. Para una variable aleatoria de este tipo definimos su medida de probabilidad como la **función de masa**:\n",
        "\n",
        "$$p(a) = P\\{X=a\\}$$\n",
        "\n",
        "esta función es positiva para a lo más un conjunto numerable de valores de $a$. Por lo tanto, si $X$ debe tomar uno de los valores $x_1,x_2,...$ entonces:\n",
        "\n",
        "$$p(x_i)\\geq 0~~~~~~~~~~~~~~~~~~~~~~~~~~i=1,2,...$$\n",
        "\n",
        "$$p(x)=0~~~~~~~~el~resto~de~valores~de~x$$\n",
        "\n",
        "Como $X$ debe de tomar los valores $x_i$ tenemos:\n",
        "\n",
        "$$\\sum p(x_i) = 1$$\n",
        "\n",
        "**Observación:** recordemos que la probabilidad es una función definida sobre conjuntos, sin embargo, al ser una variable aleatoria una función y por ende al ser ésta última un subconjunto del producto cartesiano, la medida de probabilidad puede seguirse aplicando sobre la variable aleatoria en lugar de hacerlo directamente sobre los resultados o eventos definidos en $\\Omega$.\n",
        "\n",
        "**Ejemplo:**\n",
        "\n",
        "Sea $X$ v.a. discreta con la siguiente función de masa:\n",
        "\n",
        "$$p(0)={1\\over4}~~~p(1)={1\\over2}~~~p(2)={1\\over4}$$\n",
        "\n",
        "a veces es conveniente mostrar a la función de masa gráficamente, esto se hace mediante un **gráfico de barras** (y cuando estamos en la industria con un **gráfico de pastel o pay**):"
      ]
    },
    {
      "cell_type": "code",
      "metadata": {
        "id": "5wfjFsCX-mPs",
        "outputId": "b5a094bf-05ad-4c94-e63a-9139a022d33d"
      },
      "source": [
        "import matplotlib.pyplot as plt\n",
        "\n",
        "fig,ax = plt.subplots()\n",
        "ax.set_title(\"Función de masa, (gráfico de barras)\")\n",
        "x=[0,1,2]\n",
        "y=[0.25,0.5,0.25]\n",
        "ax.bar(x,y,width=0.4)\n",
        "\n",
        "fig,ax1 = plt.subplots()\n",
        "ax1.set_title(\"Función de masa, (gráfico de pie)\")\n",
        "ax1.pie(y,labels=x)"
      ],
      "execution_count": null,
      "outputs": [
        {
          "output_type": "execute_result",
          "data": {
            "text/plain": [
              "([<matplotlib.patches.Wedge at 0x7f7b615cb910>,\n",
              "  <matplotlib.patches.Wedge at 0x7f7b615cbdf0>,\n",
              "  <matplotlib.patches.Wedge at 0x7f7b615d82b0>],\n",
              " [Text(0.7778174593052024, 0.7778174593052023, '0'),\n",
              "  Text(-1.1, 1.3471114790620887e-16, '1'),\n",
              "  Text(0.7778174593052022, -0.7778174593052025, '2')])"
            ]
          },
          "metadata": {
            "tags": []
          },
          "execution_count": 10
        },
        {
          "output_type": "display_data",
          "data": {
            "image/png": "[encoded data removed]",
            "text/plain": [
              "<Figure size 432x288 with 1 Axes>"
            ]
          },
          "metadata": {
            "tags": [],
            "needs_background": "light"
          }
        },
        {
          "output_type": "display_data",
          "data": {
            "image/png": "[encoded data removed]",
            "text/plain": [
              "<Figure size 432x288 with 1 Axes>"
            ]
          },
          "metadata": {
            "tags": []
          }
        }
      ]
    },
    {
      "cell_type": "markdown",
      "metadata": {
        "id": "_BZ2VmGK-mPt"
      },
      "source": [
        "Y finalmente podemos definir la función de distribución acumulada de la siguiente manera:\n",
        "\n",
        "$$F(a) = \\sum p(x)=P\\{X\\leq a\\}~~~~~para~toda~x~\\leq a$$\n",
        "\n",
        "Este concepto va a ser sumamente útil al momento de unificar resultados para variables aleatorias discretas y continuas.\n",
        "\n",
        "**Ejercicio:** grafica la función de distribución acumulada del ejemplo anterior."
      ]
    },
    {
      "cell_type": "markdown",
      "metadata": {
        "id": "XZ-vJkEw-mPu"
      },
      "source": [
        "## Esperanza\n",
        "\n",
        "Sea X v.a. discreta, definimos a su esperanza o a su valor esperado denotado como $E[X]$ de la siguiente manera:\n",
        "\n",
        "$$E[X]=\\sum x_ip(x_i)~~~~~para~toda~x_i~tal~que~p(x_i)>0$$\n",
        "\n",
        "por lo tanto en el ejemplo anterior la esperanza sería:\n",
        "\n",
        "$E[X]=0($$1\\over4$$)+1({1\\over2})+2({1\\over4})=1$\n",
        "\n",
        "nótese que el valor esperado para la v.a. coincide con el valor que tiene una mayor probabilidad de ocurrencia, en general existen ocasiones en que el valor esperado no forma parte del conjunto de valores que puede tomar $X$. Más aún, podemos observar que se trata de un promedio ponderado de los posibles valores que puede tomar $X$. En estadística a este concepto se le suele manejar como análogo al de **promedio aritmético o media aritmética**, aunque el de esperanza es más general. En física se tiene que dicho concepto es análogo al de **centro de gravedad** de una distribución de masas.\n",
        "\n",
        "Ahora bien la esperanza probabilística tiene dos propiedades que nos serán de suma utilidad.\n",
        "\n",
        "### Esperanza de una función de una v.a.\n",
        "\n",
        "Sea Y v.a. discreta definida como una función de X v.a. discreta:\n",
        "\n",
        "$$Y=g(X)$$\n",
        "\n",
        "tenemos que\n",
        "\n",
        "$$E[Y]=E[g(X)]=\\sum g(x_i)p(x_i)$$\n",
        "\n",
        "es decir, la esperanza de una función de una v.a. $X$ puede calcularse a partir de la función de masa de la v.a. $X$ sin necesidad de conocer la función de masa de la v.a. $Y$\n",
        "\n",
        "### Linealidad de la esperanza\n",
        "\n",
        "Sean $a,b$ constantes, entonces tenemos:\n",
        "\n",
        "$$E[aX+b]=aE[X]+b$$\n",
        "\n",
        "prueba:\n",
        "\n",
        "$$E[aX+b]=\\sum (ax_i+b)p(x_i)$$\n",
        "\n",
        "$$~~~~~~~~~~~~~~~~~~~~~~~~~=\\sum(ax_ip(x_i)+bp(x_i))$$\n",
        "\n",
        "$$~~~~~~~~~~~~~~~~~~~~~~~~~~~~~=\\sum ax_ip(x_i)+\\sum bp(x_i)$$\n",
        "\n",
        "$$~~~~~~~~~~~~~~~~~~~~~~~~~~~~~~~~=a\\sum x_ip(x_i)+b\\sum p(x_i))$$\n",
        "\n",
        "$$~~~~~~~=aE[X]+b$$\n",
        "\n",
        "Consideremos el caso especial en el que $Y = X^n$, tendríamos que:\n",
        "\n",
        "$$E[X^n]=\\sum x^np(x)$$\n",
        "\n",
        "cuando $n=1$ $E[X]$ también es conocido como el promedio del primer momento de $X$ alrededor del 0 y por inducción, para toda $n$, $E[X^n]$ se denomina como el enésimo momento de $X$ alrededor del 0."
      ]
    },
    {
      "cell_type": "markdown",
      "metadata": {
        "id": "Vq5W7brD-mPu"
      },
      "source": [
        "## Varianza\n",
        "\n",
        "La esperanza es una de las propiedades que podemos medir en una función de distribución $F$, sin embargo aunque nos habla del \"centro de gravedad sobre el que tiende a aglomerarse la distribución\" no nos dice nada de la variación o dispersión presente en la misma. Pareciera intuitivo entonces pensar que si queremos conocer lo anterior nos fijáramos en qué tan lejos puede estar $X$ de $E[X]$ para todos los posibles valores que puede tomar.\n",
        "Una manera de hacer esto, denominando a $E[X]=\\mu$, sería considerar directamente el promedio de dichas distancias al promedio:\n",
        "\n",
        "$$E[|X-\\mu|]$$\n",
        "\n",
        "Obsérvese que si consideráramos sólamente:\n",
        "\n",
        "$$~E[X-\\mu]=E[X]-E[\\mu]$$\n",
        "\n",
        "$$~~~~~=\\mu-\\mu$$\n",
        "\n",
        "$$=0$$\n",
        "\n",
        "Sin embargo, aunque consideremos el valor absoluto para evitar una esperanza nula, la expresión anterior resulta matemáticamente inconveniente (recordemos el concepto de Error cuadrático y su propiedad de derivabilidad o minimización en contraste con el Error absoluto).\n",
        "\n",
        "Definimos entonces a la varianza de una v.a. $X$ de la siguiente manera:\n",
        "\n",
        "$$Var(X)=E[(X-\\mu)^2]$$\n",
        "\n",
        "desarrollando a partir de la definición de esperanza tenemos una definición alternativa de varianza que en la práctica resulta la manera más sencilla de computar la varianza.\n",
        "\n",
        "$$Var(X)=E[(X-\\mu)^2]$$\n",
        "\n",
        "$$~~~~~~~~~~~~~~~~~~~~=\\sum(x_i-\\mu)^2p(x_i)$$\n",
        "\n",
        "$$~~~~~~~~~~~~~~~~~~~~~~~~~~~~~~~~~=\\sum(x_i^2-2x_i\\mu+\\mu^2)p(x_i)$$\n",
        "\n",
        "$$~~~~~~~~~~~~~~~~~~~~~~~~~~~~~~~~~~~~~~~~~~~~~~~~~~~~~~~~~~~~=\\sum x_i^2p(x_i)-2\\mu\\sum x_ip(x_i)+\\mu^2\\sum p(x_i)$$\n",
        "\n",
        "$$~~~~~~~~~~~~~~~~~~~~~~~~~~~~~~=E[X^2]-2\\mu E[X]+\\mu^2$$\n",
        "\n",
        "$$~~~~~~~~~~~~~~~~~~~~~~~=E[X^2]-2\\mu^2+\\mu^2$$\n",
        "\n",
        "$$~~~~~~~~~~~~~~~~~=E[X^2]-E[X]^2$$\n",
        "\n",
        "Así como en física se le conoce a la esperanza como el centro de gravidad de una distribución de masa, a la varianza se le conoce como momento de inercia de dicha distribución. Más aún, a la raíz cuadrada de la varianza es conocida como **desviación estándar (SD)** y suele ser una medida de dispersión muy empleada en estadística:\n",
        "\n",
        "$$SD(X) = \\sqrt{Var(X)}$$"
      ]
    },
    {
      "cell_type": "markdown",
      "metadata": {
        "id": "CT1rLkbr-mPv"
      },
      "source": [
        "## Covarianza\n",
        "\n",
        "Resulta ser que así como podemos pensar en una sola v.a. X, podemos considerar más v.a. de manera conjunta y es entonces que surge el concepto de v.a. conjuntamente distribuidas. Sean $X,~Y$ v.a. conjuntamente distibuidas, su función de distribución acumulada conjunta se define como:\n",
        "\n",
        "$$F(a,b) = P\\{X \\leq a, Y \\leq b\\}~~~~~~ a<\\infty, b<\\infty$$\n",
        "\n",
        "**Observación:** si $X$ y $Y$ son independientes se sigue que:\n",
        "\n",
        "$$E[XY]=E[X]E[Y]$$\n",
        "\n",
        "más aún, también podemos decir que:\n",
        "\n",
        "$$E[g(X)h(Y)]=E[g(X)]E[h(y)]$$\n",
        "\n",
        "Ahora bien, supongamos que nos interesa describir mediante alguna medida cómo es que se comporta $X$ respecto a $Y$ o viceversa. Es entonces que definimos el concepto de covarianza de la siguiente manera:\n",
        "\n",
        "$$Cov(X,Y)=E[(X-E[X])(Y-E[Y])]$$\n",
        "\n",
        "**Ejercicio:** prueba utilizando la definición y las propiedades de la esperanza probabilística que:\n",
        "\n",
        "$$Cov(X,Y)=E[XY]-E[X]E[Y]$$\n",
        "\n",
        "Nótese que de la observación antes realizada puede decirse que si $X$ y $Y$ son independientes entre sí, entonces se sigue que $Cov(X,Y)=0$. Sin embargo, lo recíproco no es verdadero, un contraejemplo a suponer lo contrario es el siguiente.\n",
        "\n",
        "Sea X,Y v.a. conjuntamente distribuidas, tales que:\n",
        "\n",
        "$$X:$$\n",
        "\n",
        "$$P\\{X=0\\}=P\\{X=1\\}=P\\{X=-1\\}={1\\over3}$$\n",
        "\n",
        "$$Y:$$\n",
        "\n",
        "$$Y=0~~~si X\\neq 0$$\n",
        "$$Y=1~~~si X=0$$\n",
        "\n",
        "Afirmación, $X$ y $Y$ son dependientes, y más aún XY=0, para toda combinación posible, por lo tanto $E[XY]=0$, y además podemos calcular $E[X]=0$ y por lo tanto:\n",
        "\n",
        "$$Cov(X,Y)=E[XY]-E[X]E[Y]=0$$\n",
        "\n",
        "Sin embargo $X$ y $Y$ **no son independientes**.\n",
        "\n",
        "### Propiedades de la covarianza:\n",
        "\n",
        "1. Cov(X,Y)=Cov(Y,X)\n",
        "2. Cov(X,X)=Var(X)\n",
        "3. ¿Desigualdad del triángulo se cumple?\n",
        "\n",
        "**En el próximo notebook definiremos a la correlación lineal de Pearson y veremos que se obtiene como una estandarización de la medida de covarianza. Sin embargo también hablaremos brevemente de cómo puede salvarse el hecho de que no pueda concluirse independencia a partir de un valor de covarianza (o correlación de Peason) de 0**"
      ]
    }
  ]
}