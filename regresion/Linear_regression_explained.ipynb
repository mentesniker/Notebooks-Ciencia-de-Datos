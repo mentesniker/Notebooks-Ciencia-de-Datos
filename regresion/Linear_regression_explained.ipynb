{
 "cells": [
  {
   "cell_type": "markdown",
   "metadata": {},
   "source": [
    "## ¿Y cómo funciona la regresión lineal?\n",
    "\n",
    "**Definición:** Dado un conjunto de datos $\\{y_i,~x_{i1},...~x_{ip}\\}^n _{i=1}$, donde $Y$ es una variable aleatoria dependiente o de respuesta y cada $X_p$ es una variable predictora controlada y libre de error también conocida como variable independiente. Suponemos que existe una relación lineal entre ambos tipos de variable, y tenemos que para cada observación $i$ podemos expresar a cada $y_i$ como una combinación lineal de los parámetros $\\beta_i$ y sus predictores, lo cual se denotaría de la siguiente manera:\n",
    "\n",
    "$$y_i~=~\\beta_0+ \\beta_1 x_i + ... + \\beta_p x_i + \\epsilon_i~=~\\beta_0 + \\vec x^T_i \\vec \\beta + \\epsilon_i$$\n",
    "\n",
    "A veces suele presentarse dicha expresión con notación matricial para incluir a las $n$ observaciones:\n",
    "\n",
    "**$$Y=\\beta X + \\epsilon$$**\n",
    "\n",
    "**Supuestos:**\n",
    "\n",
    "1. Exogeneidad débil: las variables independientes pueden ser consideradas como NO aleatorias o libres de error.\n",
    "2. Linealidad: la variable de respuesta puede expresarse como una combinación lineal de los parámetros y las variables.\n",
    "3. Homocedasticidad: valores diferentes de la variable de respuesta tienen la misma varianza sin importar los valores de sus variables predictoras asociadas.\n",
    "4. Independencia: los valores que toman los residuales son independientes (o están débilmente correlacionados) entre sí.\n",
    "\n",
    "Una vez conocida la definición y los supuestos necesarios para ajustar un modelo lineal, ¿cómo encontramos los valores óptimos de los parámetros $\\beta_i$? pues mediante el método de ajuste por **mínimos cuadrados**.\n",
    "\n",
    "Consideremos un caso de regresión lineal simple donde sólo tengamos una variable predictora o independiente.\n"
   ]
  },
  {
   "cell_type": "code",
   "execution_count": 3,
   "metadata": {},
   "outputs": [],
   "source": [
    "# Loading libraries\n",
    "import random, pylab, numpy"
   ]
  },
  {
   "cell_type": "code",
   "execution_count": 4,
   "metadata": {},
   "outputs": [
    {
     "data": {
      "text/plain": [
       "([0.1,\n",
       "  0.15,\n",
       "  0.2,\n",
       "  0.25,\n",
       "  0.3,\n",
       "  0.35,\n",
       "  0.4,\n",
       "  0.45,\n",
       "  0.5,\n",
       "  0.55,\n",
       "  0.6,\n",
       "  0.65,\n",
       "  0.7,\n",
       "  0.75,\n",
       "  0.8,\n",
       "  0.85,\n",
       "  0.9,\n",
       "  0.95,\n",
       "  1.0],\n",
       " [0.0865,\n",
       "  0.1015,\n",
       "  0.1106,\n",
       "  0.1279,\n",
       "  0.1892,\n",
       "  0.2695,\n",
       "  0.2888,\n",
       "  0.2425,\n",
       "  0.3465,\n",
       "  0.3225,\n",
       "  0.3764,\n",
       "  0.4263,\n",
       "  0.4562,\n",
       "  0.4502,\n",
       "  0.4499,\n",
       "  0.4534,\n",
       "  0.4416,\n",
       "  0.4304,\n",
       "  0.437])"
      ]
     },
     "execution_count": 4,
     "metadata": {},
     "output_type": "execute_result"
    }
   ],
   "source": [
    "# Loading data\n",
    "# Defining functions\n",
    "def getData(fileName):\n",
    "    dataFile = open(fileName, 'r')\n",
    "    distances = []\n",
    "    masses = []\n",
    "    dataFile.readline() #discard header\n",
    "    for line in dataFile:\n",
    "        d, m = line.split()\n",
    "        distances.append(float(d))\n",
    "        masses.append(float(m))\n",
    "    dataFile.close()\n",
    "    return (masses, distances)\n",
    "\n",
    "spring = getData('springData.txt')\n",
    "spring"
   ]
  },
  {
   "cell_type": "code",
   "execution_count": 6,
   "metadata": {},
   "outputs": [
    {
     "data": {
      "image/png": "[encoded data removed]",
      "text/plain": [
       "<Figure size 432x288 with 1 Axes>"
      ]
     },
     "metadata": {
      "needs_background": "light"
     },
     "output_type": "display_data"
    }
   ],
   "source": [
    "# Plotting data\n",
    "\n",
    "def labelPlot():\n",
    "    pylab.title('Desplazamiento del resorte')\n",
    "    pylab.xlabel('Fuerza (Newtons)')\n",
    "    pylab.ylabel('Distancia (metros)')\n",
    "\n",
    "def plotData(fileName):\n",
    "    xVals, yVals = getData(fileName)\n",
    "    xVals = pylab.array(xVals)\n",
    "    yVals = pylab.array(yVals)\n",
    "    xVals = xVals*9.81  #acc. due to gravity\n",
    "    pylab.plot(xVals, yVals, 'bo',\n",
    "               label = 'Measured displacements')\n",
    "    labelPlot()\n",
    "    \n",
    "plotData('springData.txt')"
   ]
  },
  {
   "cell_type": "markdown",
   "metadata": {},
   "source": [
    "Tenemos un total de 19 observaciones en donde se midió la distancia en metros que un resorte se desplazaba al colgársele distintas masas. Entonces supondremos que existe una recta hipotética de la forma:\n",
    "\n",
    "$$\\hat Y= \\beta X$$\n",
    "\n",
    "la cual va a tener la propiedad de minimizar las distancias verticales de cada valor $y_i$ hacia ella. Es decir minimizaremos esta cantidad para toda observación $i$:\n",
    "\n",
    "$$|\\hat y_i - y_i|$$\n",
    "\n",
    "Sin embargo, sabemos por cálculo uno que el valor absoluto no es una función derivable, y por ende minimizable, en su valor mínimo, por lo que entonces consideraremos la siguiente expresión:\n",
    "\n",
    "$$e_i = (\\hat y_i - y_i)^2$$\n",
    "\n",
    "el cual se conoce como error cuadrático, residual o residuo asociado a la observación $i$, considerando a todos estos errores a la vez tenemos que la función a minimizar en realidad es:\n",
    "\n",
    "$$\\Sigma~e_i = \\Sigma~(\\hat y_i - y_i)^2$$\n",
    "\n",
    "otra manera de analizar esta expresión es:\n",
    "\n",
    "$$Error = (Predicciones - Observaciones)^2$$\n",
    "\n",
    "$$Error(\\beta_p) = ((\\beta_0 + \\vec x^T_i \\vec \\beta) - Observaciones)^2$$\n",
    "\n",
    "Para el caso que estamos considerando en el que únicamente tenemos una variable independiente tendríamos:\n",
    "\n",
    "$$Error(\\beta_p) = ((\\beta_0 + \\beta_1 X_1) - Observaciones)^2$$\n",
    "\n",
    "Entonces tenemos una función de error que depende de dos variables, ambos parametros $\\beta_0$ y $\\beta_1$, ahora sólo tenemos que derivar respecto a una y otra para obtener las expresiones que nos permitiran obtener los valores que minimizan la función de error.\n",
    "\n",
    "**Ejercicio:** \n",
    "1. Obten la expresión analítica de ambas parciales para este ejemplo.\n",
    "2. Ya que encuentres las expresiones para encontrar los valores que minimizan el error cuadrático, ¿qué puedes decir del punto $(\\bar X, \\bar Y)$?"
   ]
  },
  {
   "cell_type": "code",
   "execution_count": 10,
   "metadata": {},
   "outputs": [
    {
     "name": "stdout",
     "output_type": "stream",
     "text": [
      "a = 0.04643203319205251 b = 0.06562859649122818\n"
     ]
    },
    {
     "data": {
      "image/png": "[encoded data removed]",
      "text/plain": [
       "<Figure size 432x288 with 1 Axes>"
      ]
     },
     "metadata": {
      "needs_background": "light"
     },
     "output_type": "display_data"
    }
   ],
   "source": [
    "def fitData(fileName):\n",
    "    xVals, yVals = getData(fileName)\n",
    "    xVals = pylab.array(xVals)\n",
    "    yVals = pylab.array(yVals)\n",
    "    xVals = xVals*9.81 #get force\n",
    "    pylab.plot(xVals, yVals, 'bo',\n",
    "               label = 'Puntos medidos')\n",
    "    labelPlot()                 \n",
    "    a,b = pylab.polyfit(xVals, yVals, 1)# En esta función podemos variar el grado del polinomio que ajustamos a los datos\n",
    "    estYVals = a*pylab.array(xVals) + b\n",
    "    print('a =', a, 'b =', b)\n",
    "    pylab.plot(xVals, estYVals, 'r',\n",
    "               label = 'Ajuste lineal')#, k = '\n",
    "               #+ str(round(1/a, 5)))\n",
    "    pylab.legend(loc = 'best')\n",
    "\n",
    "fitData(\"springData.txt\")"
   ]
  }
 ],
 "metadata": {
  "kernelspec": {
   "display_name": "Python 3",
   "language": "python",
   "name": "python3"
  },
  "language_info": {
   "codemirror_mode": {
    "name": "ipython",
    "version": 3
   },
   "file_extension": ".py",
   "mimetype": "text/x-python",
   "name": "python",
   "nbconvert_exporter": "python",
   "pygments_lexer": "ipython3",
   "version": "3.8.5"
  }
 },
 "nbformat": 4,
 "nbformat_minor": 4
}
