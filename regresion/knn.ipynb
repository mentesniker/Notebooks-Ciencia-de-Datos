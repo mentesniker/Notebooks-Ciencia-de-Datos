{
  "nbformat": 4,
  "nbformat_minor": 0,
  "metadata": {
    "kernelspec": {
      "display_name": "Python 3",
      "language": "python",
      "name": "python3"
    },
    "language_info": {
      "codemirror_mode": {
        "name": "ipython",
        "version": 3
      },
      "file_extension": ".py",
      "mimetype": "text/x-python",
      "name": "python",
      "nbconvert_exporter": "python",
      "pygments_lexer": "ipython3",
      "version": "3.8.5"
    },
    "colab": {
      "name": "knn.ipynb",
      "provenance": []
    }
  },
  "cells": [
    {
      "cell_type": "markdown",
      "metadata": {
        "id": "vitojVMaUync"
      },
      "source": [
        "## K Nearest Neighbors (KNN) o K Vecinos más Cercanos\n",
        "\n",
        "Este algoritmo cuyo nombre puede ser traducido como K Vecinos más Cercanos puede ser utilizado para resolver problemas de clasificación (aprendizaje supervisado) o de regresión/clusterización (aprendizaje no supervisado).\n",
        "\n",
        "Para un ejemplo supervisado podemos revisar el notebook previo (Precisión vs Cobertura) en donde el dataset empleado cuenta con un atributo o columna que representa a una variable categórica (tipo Factor en R). En esta ocasión abordaremos un problema de regresión, \"clusterización\" o de aprendizaje no supervisado.\n",
        "\n",
        "Primero cargamos las bibliotecas y el dataset que será utilizado."
      ]
    },
    {
      "cell_type": "code",
      "metadata": {
        "id": "3j9rxT8zUynh"
      },
      "source": [
        "#Loading libraries\n",
        "\n",
        "import pandas as pd\n",
        "import numpy as np\n",
        "from sklearn.model_selection import train_test_split\n",
        "from sklearn.preprocessing import StandardScaler\n",
        "from sklearn.preprocessing import MinMaxScaler\n",
        "from sklearn.neighbors import KNeighborsClassifier\n",
        "from sklearn.neighbors import KNeighborsRegressor\n",
        "from sklearn.metrics import confusion_matrix\n",
        "from sklearn.metrics import classification_report\n",
        "from sklearn.metrics import roc_curve\n",
        "from sklearn.metrics import roc_auc_score\n",
        "from sklearn.metrics import precision_recall_curve\n",
        "from sklearn.metrics import auc\n",
        "from sklearn.metrics.pairwise import manhattan_distances\n",
        "from sklearn.metrics import mean_squared_error \n",
        "from math import sqrt\n",
        "import matplotlib.pyplot as plt\n",
        "import seaborn as sns\n",
        "%matplotlib inline"
      ],
      "execution_count": null,
      "outputs": []
    },
    {
      "cell_type": "markdown",
      "metadata": {
        "id": "SRg4H1TSUyni"
      },
      "source": [
        "## Dataset\n",
        "\n",
        "El dataset con el que trabajaremos, consta de únicamente variables o atributos numéricos (más allá de si son discretos o continuos). Las variables de input o independientes serán la altura y la edad, mientras que nuestra variable a predecir o target será el peso. Es importante mencionar que la naturaleza de la variable de target determina si el problema de aprendizaje es de regresión o de clasificación, por lo que un dataset en donde tuviéramos atributos categóricos y quisieramos predecir una variable numérica igualmente caería en la categoría de no supervisado.\n",
        "\n",
        "**OBSÉRVESE QUE EN LA ÚLTIMA FILA SE TIENE UNA OBSERVACIÓN CUYO PESO ES DESCONOCIDO**"
      ]
    },
    {
      "cell_type": "code",
      "metadata": {
        "id": "1nWGbeAnUynj",
        "outputId": "cc0bbcdd-6faf-46a0-d003-b7515a9a438f"
      },
      "source": [
        "# Loading datasets\n",
        "db = pd.read_csv(\"datasets/alturas_pesos.csv\")\n",
        "db"
      ],
      "execution_count": null,
      "outputs": [
        {
          "output_type": "execute_result",
          "data": {
            "text/html": [
              "<div>\n",
              "<style scoped>\n",
              "    .dataframe tbody tr th:only-of-type {\n",
              "        vertical-align: middle;\n",
              "    }\n",
              "\n",
              "    .dataframe tbody tr th {\n",
              "        vertical-align: top;\n",
              "    }\n",
              "\n",
              "    .dataframe thead th {\n",
              "        text-align: right;\n",
              "    }\n",
              "</style>\n",
              "<table border=\"1\" class=\"dataframe\">\n",
              "  <thead>\n",
              "    <tr style=\"text-align: right;\">\n",
              "      <th></th>\n",
              "      <th>ALTURA</th>\n",
              "      <th>EDAD</th>\n",
              "      <th>PESO</th>\n",
              "    </tr>\n",
              "  </thead>\n",
              "  <tbody>\n",
              "    <tr>\n",
              "      <th>0</th>\n",
              "      <td>5.00</td>\n",
              "      <td>45</td>\n",
              "      <td>77.0</td>\n",
              "    </tr>\n",
              "    <tr>\n",
              "      <th>1</th>\n",
              "      <td>5.11</td>\n",
              "      <td>26</td>\n",
              "      <td>47.0</td>\n",
              "    </tr>\n",
              "    <tr>\n",
              "      <th>2</th>\n",
              "      <td>5.60</td>\n",
              "      <td>30</td>\n",
              "      <td>55.0</td>\n",
              "    </tr>\n",
              "    <tr>\n",
              "      <th>3</th>\n",
              "      <td>5.90</td>\n",
              "      <td>34</td>\n",
              "      <td>59.0</td>\n",
              "    </tr>\n",
              "    <tr>\n",
              "      <th>4</th>\n",
              "      <td>4.80</td>\n",
              "      <td>40</td>\n",
              "      <td>72.0</td>\n",
              "    </tr>\n",
              "    <tr>\n",
              "      <th>5</th>\n",
              "      <td>5.80</td>\n",
              "      <td>36</td>\n",
              "      <td>60.0</td>\n",
              "    </tr>\n",
              "    <tr>\n",
              "      <th>6</th>\n",
              "      <td>5.30</td>\n",
              "      <td>19</td>\n",
              "      <td>40.0</td>\n",
              "    </tr>\n",
              "    <tr>\n",
              "      <th>7</th>\n",
              "      <td>5.80</td>\n",
              "      <td>28</td>\n",
              "      <td>60.0</td>\n",
              "    </tr>\n",
              "    <tr>\n",
              "      <th>8</th>\n",
              "      <td>5.50</td>\n",
              "      <td>23</td>\n",
              "      <td>45.0</td>\n",
              "    </tr>\n",
              "    <tr>\n",
              "      <th>9</th>\n",
              "      <td>5.60</td>\n",
              "      <td>32</td>\n",
              "      <td>58.0</td>\n",
              "    </tr>\n",
              "    <tr>\n",
              "      <th>10</th>\n",
              "      <td>5.50</td>\n",
              "      <td>38</td>\n",
              "      <td>NaN</td>\n",
              "    </tr>\n",
              "  </tbody>\n",
              "</table>\n",
              "</div>"
            ],
            "text/plain": [
              "    ALTURA  EDAD  PESO\n",
              "0     5.00    45  77.0\n",
              "1     5.11    26  47.0\n",
              "2     5.60    30  55.0\n",
              "3     5.90    34  59.0\n",
              "4     4.80    40  72.0\n",
              "5     5.80    36  60.0\n",
              "6     5.30    19  40.0\n",
              "7     5.80    28  60.0\n",
              "8     5.50    23  45.0\n",
              "9     5.60    32  58.0\n",
              "10    5.50    38   NaN"
            ]
          },
          "metadata": {
            "tags": []
          },
          "execution_count": 297
        }
      ]
    },
    {
      "cell_type": "markdown",
      "metadata": {
        "id": "xx4dgySGUynk"
      },
      "source": [
        "A continuación separamos nuestro dataset en un conjunto de entrenamiento constituido por las primeras 10 filas y un conjunto de prueba que cuenta únicamente con una observación. En este ejemplo concreto este paso en realidad es simbólico ya que lo que se quiere mostrar es cómo el algoritmo predice valores numéricos."
      ]
    },
    {
      "cell_type": "code",
      "metadata": {
        "id": "zziBZkFTUynk"
      },
      "source": [
        "prediction = db.iloc[10,:]\n",
        "data = db.iloc[0:10,:]\n",
        "train = data.iloc[0:7,:]\n",
        "test = data.iloc[7:10,:]\n",
        "x = train['ALTURA']\n",
        "y = train['EDAD']\n",
        "labels = train['PESO']"
      ],
      "execution_count": null,
      "outputs": []
    },
    {
      "cell_type": "markdown",
      "metadata": {
        "id": "dDWLrnyUUynl"
      },
      "source": [
        "Si graficamos nuestros datos podremos observar cómo se distribuyen las observaciones en el espacio N-Dimensional de atributos o variables independientes. Por otra parte podemos observar el punto amarillo que representa la observación cuyo valor de peso deseamos estimar."
      ]
    },
    {
      "cell_type": "code",
      "metadata": {
        "id": "k5reON5jUynl",
        "outputId": "d8ac4b84-e7be-47cd-9de9-c736cb603c88"
      },
      "source": [
        "fig,ax = plt.subplots()\n",
        "ax.set_title(\"ALTURA VS EDAD\")\n",
        "ax.scatter(x,y)\n",
        "ax.scatter(test['ALTURA'],test['EDAD'])\n",
        "for i,label in enumerate(labels):\n",
        "    ax.annotate(label, (x[i],y[i]), )\n",
        "plt.show()"
      ],
      "execution_count": null,
      "outputs": [
        {
          "output_type": "display_data",
          "data": {
            "image/png": "[encoded data removed]",
            "text/plain": [
              "<Figure size 432x288 with 1 Axes>"
            ]
          },
          "metadata": {
            "tags": [],
            "needs_background": "light"
          }
        }
      ]
    },
    {
      "cell_type": "markdown",
      "metadata": {
        "id": "cRgdpRU3Uynl"
      },
      "source": [
        "## Supuesto:\n",
        "El supuesto más importante de KNN puede resumirse en que \"observaciones cercanas en el espacio de atributos tienen una valor similar en la variable de target\". Dicho supuesto da pie a que consideremos:\n",
        "\n",
        "1. Una medida de distancia que nos permita definir \"cercano\" mediante el establecimiento de un umbral (en este caso esto se controla mediante el valor de K)\n",
        "2. Un criterio para una vez dado este \"radio\" observar a los veciones dentro del mismo y determinar el valor de target que la observación objetivo debe de tener."
      ]
    },
    {
      "cell_type": "markdown",
      "metadata": {
        "id": "Zg52aYC-Uynm"
      },
      "source": [
        "### 1. Calculando la distancia del punto objetivo a los demás puntos\n",
        "\n",
        "El primer paso consiste en definir una medida de distancia para medir la cercanía de un punto a sus vecinos. \n",
        "\n",
        "Algunas medidas de distancia comúnmente empleadas son la distancia euclidiana, la distancia Manhattan (ambas conocidas como Distancia de orden 2 y Distancia de orden 1 de Minkowsky respectivamente), la distancia de Hamming o la distancia de Jaccard (estas últimas dos son de suma utilidad en Procesamiento del Lenguaje Natural).\n",
        "\n",
        "**Distancia euclidiana (Distancia 2 de Minkowsky)**\n",
        "\n",
        "$d(\\vec{x},\\vec{y})~=~\\sum\\sqrt{|x_i-y_i|}~=~\\sum(|x_i-y_i|)^{1\\over2}$\n",
        "\n",
        "**Distancia Manhattan (Distancia 1 de Minkowsky)**\n",
        "\n",
        "$d(\\vec{x},\\vec{y})~=~\\sum|x_i-y_i|~=~\\sum(|x_i-y_i|)^{1\\over1}$\n",
        "\n",
        "**Distancia de Hamming (para variables categóricas)**\n",
        "\n",
        "$d(\\vec{x},\\vec{y})~=~\\sum{h_i}$\n",
        "\n",
        "donde $~h_i=0~$ si $~x_i=y_i~$ y $~h_i=1~$ si $~x_i\\neq y_i~$\n",
        "\n",
        "**Distancia de Jaccard (para variables categóricas, palabras o conjuntos, puede aplicarse a vectores o conjuntos de distinto tamaño)**\n",
        "\n",
        "$d(X,Y)~=~1-$${|X\\bigcap Y|}\\over{|X\\bigcup Y|}$\n",
        "\n",
        "A continuación procederemos a calcular las 2 primeras distancias mencionadas para aplicar el algoritmo y notar sus diferencias (¿pueden calcularse las segundas 2 distancias en este data set?, ¿si no se puede, podrías hacer algo para que se pudiera?):"
      ]
    },
    {
      "cell_type": "code",
      "metadata": {
        "id": "mFQjShuJUynm",
        "outputId": "48d3503f-d80a-4008-9218-a74827850c7e"
      },
      "source": [
        "train_input = train.iloc[:,0:2].to_numpy()\n",
        "test_input = test.iloc[0,0:2].to_numpy().reshape(1,-1)\n",
        "\n",
        "dist_eucl = [np.linalg.norm(test_input-train_point) for train_point in train_input]\n",
        "dist_manh = manhattan_distances(test_input,train_input)[0]\n",
        "\n",
        "df = pd.DataFrame(list(zip(dist_eucl, dist_manh)), \n",
        "               columns =['EUCLIDEAN', 'MANHATTAN']) \n",
        "df.describe()"
      ],
      "execution_count": null,
      "outputs": [
        {
          "output_type": "execute_result",
          "data": {
            "text/html": [
              "<div>\n",
              "<style scoped>\n",
              "    .dataframe tbody tr th:only-of-type {\n",
              "        vertical-align: middle;\n",
              "    }\n",
              "\n",
              "    .dataframe tbody tr th {\n",
              "        vertical-align: top;\n",
              "    }\n",
              "\n",
              "    .dataframe thead th {\n",
              "        text-align: right;\n",
              "    }\n",
              "</style>\n",
              "<table border=\"1\" class=\"dataframe\">\n",
              "  <thead>\n",
              "    <tr style=\"text-align: right;\">\n",
              "      <th></th>\n",
              "      <th>EUCLIDEAN</th>\n",
              "      <th>MANHATTAN</th>\n",
              "    </tr>\n",
              "  </thead>\n",
              "  <tbody>\n",
              "    <tr>\n",
              "      <th>count</th>\n",
              "      <td>7.000000</td>\n",
              "      <td>7.000000</td>\n",
              "    </tr>\n",
              "    <tr>\n",
              "      <th>mean</th>\n",
              "      <td>8.028682</td>\n",
              "      <td>8.470000</td>\n",
              "    </tr>\n",
              "    <tr>\n",
              "      <th>std</th>\n",
              "      <td>5.372739</td>\n",
              "      <td>5.585544</td>\n",
              "    </tr>\n",
              "    <tr>\n",
              "      <th>min</th>\n",
              "      <td>2.009975</td>\n",
              "      <td>2.200000</td>\n",
              "    </tr>\n",
              "    <tr>\n",
              "      <th>25%</th>\n",
              "      <td>4.058256</td>\n",
              "      <td>4.395000</td>\n",
              "    </tr>\n",
              "    <tr>\n",
              "      <th>50%</th>\n",
              "      <td>8.000000</td>\n",
              "      <td>8.000000</td>\n",
              "    </tr>\n",
              "    <tr>\n",
              "      <th>75%</th>\n",
              "      <td>10.527736</td>\n",
              "      <td>11.250000</td>\n",
              "    </tr>\n",
              "    <tr>\n",
              "      <th>max</th>\n",
              "      <td>17.018813</td>\n",
              "      <td>17.800000</td>\n",
              "    </tr>\n",
              "  </tbody>\n",
              "</table>\n",
              "</div>"
            ],
            "text/plain": [
              "       EUCLIDEAN  MANHATTAN\n",
              "count   7.000000   7.000000\n",
              "mean    8.028682   8.470000\n",
              "std     5.372739   5.585544\n",
              "min     2.009975   2.200000\n",
              "25%     4.058256   4.395000\n",
              "50%     8.000000   8.000000\n",
              "75%    10.527736  11.250000\n",
              "max    17.018813  17.800000"
            ]
          },
          "metadata": {
            "tags": []
          },
          "execution_count": 300
        }
      ]
    },
    {
      "cell_type": "markdown",
      "metadata": {
        "id": "b43P3hF2Uynn"
      },
      "source": [
        "## Ya que tenemos las distancias computadas, ¿cómo decidimos el valor de K?\n",
        "\n",
        "Para elegir el valor de k óptimo podemos utilizar la tasa de error obtenida sobre el conjunto de prueba, para así elegir aquella donde encontremos el valor más pequeño. Para esto aplicaremos el algoritmo probando varios valores de k y en función de ello determinaremos aquella que minimice el error en el conjunto de prueba.\n"
      ]
    },
    {
      "cell_type": "code",
      "metadata": {
        "id": "Ks365ht2Uynn",
        "outputId": "44a45386-7651-4390-d6ba-66673e18c92e"
      },
      "source": [
        "x_train = train.drop('PESO', axis=1)\n",
        "y_train = train['PESO']\n",
        "\n",
        "x_test = test.drop('PESO', axis=1)\n",
        "y_test = test['PESO']\n",
        "\n",
        "scaler = MinMaxScaler(feature_range=(0, 1))\n",
        "\n",
        "x_train_scaled = scaler.fit_transform(x_train)\n",
        "x_train = pd.DataFrame(x_train_scaled)\n",
        "\n",
        "x_test_scaled = scaler.fit_transform(x_test)\n",
        "x_test = pd.DataFrame(x_test_scaled)\n",
        "\n",
        "rmse_val = [] #to store rmse values for different k\n",
        "for K in range(7):\n",
        "    K = K+1\n",
        "    model = KNeighborsRegressor(n_neighbors = K)\n",
        "\n",
        "    model.fit(x_train, y_train)  # fit the model\n",
        "    pred=model.predict(x_test) # make prediction on test set\n",
        "    error = sqrt(mean_squared_error(y_test,pred)) # calculate RMSE (Residuals Mean Squared Error)\n",
        "    rmse_val.append(error) #store RMSE \n",
        "    print('RMSE value for k= ' , K , 'is:', error)"
      ],
      "execution_count": null,
      "outputs": [
        {
          "output_type": "stream",
          "text": [
            "RMSE value for k=  1 is: 11.045361017187261\n",
            "RMSE value for k=  2 is: 9.569918146637061\n",
            "RMSE value for k=  3 is: 8.24845664576332\n",
            "RMSE value for k=  4 is: 7.275816105427624\n",
            "RMSE value for k=  5 is: 9.178235124467014\n",
            "RMSE value for k=  6 is: 8.349428900407677\n",
            "RMSE value for k=  7 is: 7.885662525710046\n"
          ],
          "name": "stdout"
        }
      ]
    },
    {
      "cell_type": "code",
      "metadata": {
        "id": "2cAiKPGGUynn",
        "outputId": "62ddca5f-b9c0-4fc2-a2ac-5fff83f6adee"
      },
      "source": [
        "curve = pd.DataFrame(rmse_val) #elbow curve \n",
        "curve.plot()"
      ],
      "execution_count": null,
      "outputs": [
        {
          "output_type": "execute_result",
          "data": {
            "text/plain": [
              "<AxesSubplot:>"
            ]
          },
          "metadata": {
            "tags": []
          },
          "execution_count": 302
        },
        {
          "output_type": "display_data",
          "data": {
            "image/png": "[encoded data removed]",
            "text/plain": [
              "<Figure size 432x288 with 1 Axes>"
            ]
          },
          "metadata": {
            "tags": [],
            "needs_background": "light"
          }
        }
      ]
    },
    {
      "cell_type": "markdown",
      "metadata": {
        "id": "ChH1f7zQUyno"
      },
      "source": [
        "Con base en la gráfica anterior podemos concluir que el valor de K que minimiza el MSE es K = 3. Ahora procederemos a construir el modelo para esta K y predeciremos la observación faltante en el dataset original."
      ]
    },
    {
      "cell_type": "code",
      "metadata": {
        "id": "Ie8KFzk2Uyno",
        "outputId": "dfa1d634-707c-4672-c496-30737305141c"
      },
      "source": [
        "prediction"
      ],
      "execution_count": null,
      "outputs": [
        {
          "output_type": "execute_result",
          "data": {
            "text/plain": [
              "ALTURA     5.5\n",
              "EDAD      38.0\n",
              "PESO       NaN\n",
              "Name: 10, dtype: float64"
            ]
          },
          "metadata": {
            "tags": []
          },
          "execution_count": 303
        }
      ]
    },
    {
      "cell_type": "code",
      "metadata": {
        "id": "Fw-oNeMtUynp",
        "outputId": "19e00d00-75f5-423a-9045-7b8b6679048e"
      },
      "source": [
        "model = KNeighborsRegressor(n_neighbors = 3)\n",
        "model.fit(data.iloc[:,0:2],data.iloc[:,2])# Data not rescaled\n",
        "model.predict(prediction[0:2].to_numpy().reshape(1,-1))"
      ],
      "execution_count": null,
      "outputs": [
        {
          "output_type": "execute_result",
          "data": {
            "text/plain": [
              "array([63.66666667])"
            ]
          },
          "metadata": {
            "tags": []
          },
          "execution_count": 304
        }
      ]
    },
    {
      "cell_type": "markdown",
      "metadata": {
        "id": "uImFpxy0Uynp"
      },
      "source": [
        "Por lo que recordando los datos originales tendríamos que para una persona de 5.50 ft de altura y 38 años su peso estimado sería de 63.67 kg."
      ]
    },
    {
      "cell_type": "code",
      "metadata": {
        "id": "OIVAIU26Uynp",
        "outputId": "2b87d377-2949-4c34-ccbb-34d486b6e215"
      },
      "source": [
        "db"
      ],
      "execution_count": null,
      "outputs": [
        {
          "output_type": "execute_result",
          "data": {
            "text/html": [
              "<div>\n",
              "<style scoped>\n",
              "    .dataframe tbody tr th:only-of-type {\n",
              "        vertical-align: middle;\n",
              "    }\n",
              "\n",
              "    .dataframe tbody tr th {\n",
              "        vertical-align: top;\n",
              "    }\n",
              "\n",
              "    .dataframe thead th {\n",
              "        text-align: right;\n",
              "    }\n",
              "</style>\n",
              "<table border=\"1\" class=\"dataframe\">\n",
              "  <thead>\n",
              "    <tr style=\"text-align: right;\">\n",
              "      <th></th>\n",
              "      <th>ALTURA</th>\n",
              "      <th>EDAD</th>\n",
              "      <th>PESO</th>\n",
              "    </tr>\n",
              "  </thead>\n",
              "  <tbody>\n",
              "    <tr>\n",
              "      <th>0</th>\n",
              "      <td>5.00</td>\n",
              "      <td>45</td>\n",
              "      <td>77.0</td>\n",
              "    </tr>\n",
              "    <tr>\n",
              "      <th>1</th>\n",
              "      <td>5.11</td>\n",
              "      <td>26</td>\n",
              "      <td>47.0</td>\n",
              "    </tr>\n",
              "    <tr>\n",
              "      <th>2</th>\n",
              "      <td>5.60</td>\n",
              "      <td>30</td>\n",
              "      <td>55.0</td>\n",
              "    </tr>\n",
              "    <tr>\n",
              "      <th>3</th>\n",
              "      <td>5.90</td>\n",
              "      <td>34</td>\n",
              "      <td>59.0</td>\n",
              "    </tr>\n",
              "    <tr>\n",
              "      <th>4</th>\n",
              "      <td>4.80</td>\n",
              "      <td>40</td>\n",
              "      <td>72.0</td>\n",
              "    </tr>\n",
              "    <tr>\n",
              "      <th>5</th>\n",
              "      <td>5.80</td>\n",
              "      <td>36</td>\n",
              "      <td>60.0</td>\n",
              "    </tr>\n",
              "    <tr>\n",
              "      <th>6</th>\n",
              "      <td>5.30</td>\n",
              "      <td>19</td>\n",
              "      <td>40.0</td>\n",
              "    </tr>\n",
              "    <tr>\n",
              "      <th>7</th>\n",
              "      <td>5.80</td>\n",
              "      <td>28</td>\n",
              "      <td>60.0</td>\n",
              "    </tr>\n",
              "    <tr>\n",
              "      <th>8</th>\n",
              "      <td>5.50</td>\n",
              "      <td>23</td>\n",
              "      <td>45.0</td>\n",
              "    </tr>\n",
              "    <tr>\n",
              "      <th>9</th>\n",
              "      <td>5.60</td>\n",
              "      <td>32</td>\n",
              "      <td>58.0</td>\n",
              "    </tr>\n",
              "    <tr>\n",
              "      <th>10</th>\n",
              "      <td>5.50</td>\n",
              "      <td>38</td>\n",
              "      <td>NaN</td>\n",
              "    </tr>\n",
              "  </tbody>\n",
              "</table>\n",
              "</div>"
            ],
            "text/plain": [
              "    ALTURA  EDAD  PESO\n",
              "0     5.00    45  77.0\n",
              "1     5.11    26  47.0\n",
              "2     5.60    30  55.0\n",
              "3     5.90    34  59.0\n",
              "4     4.80    40  72.0\n",
              "5     5.80    36  60.0\n",
              "6     5.30    19  40.0\n",
              "7     5.80    28  60.0\n",
              "8     5.50    23  45.0\n",
              "9     5.60    32  58.0\n",
              "10    5.50    38   NaN"
            ]
          },
          "metadata": {
            "tags": []
          },
          "execution_count": 305
        }
      ]
    },
    {
      "cell_type": "markdown",
      "metadata": {
        "id": "UwPnbSxpUynp"
      },
      "source": [
        "## ¿Cómo predice (variable numérica) o clasifica (variable categórica) KNN?\n",
        "\n",
        "Si estamos ante un problema de regresión o de aprendizaje no supervisado KNN utiliza a los K vecinos más cercanos para utilizar el valor que presentan en la variable target y mediante un promedio asignar el valor correpondiente a la nueva observación. \n",
        "\n",
        "**OBSERVACIÓN: Podríamos utilizar la mediana en lugar del promedio dependiendo de la distribución de los K datos considerados.**\n",
        "\n",
        "Si estamos ante un problema de clasificación o de aprendizaje supervisado KNN asigna por democracia el valor de la variable target, o la categoría, esto lo hace considerando la moda obtenida al considerar a los K vecinos más cercanos y observar la categoría a la que pertenece cada uno.\n",
        "\n",
        "Ahora bien pensando en el problema antes presentado ¿convendría pensar en otros métodos de regresión o estimación? \n",
        "\n",
        "La regresión lineal clásica puede brindar un método con el cual contrastar los resultados del modelo anterior. Recordemos que encontramos un MSE para K = 3, por lo que podríamos conocer el MSE obtenido mediante un modelo de regresión lineal clásico y ver en qué caso obtenemos un valor menor. Sin embargo dicho método lo veremos en un siguiente notebook."
      ]
    }
  ]
}
