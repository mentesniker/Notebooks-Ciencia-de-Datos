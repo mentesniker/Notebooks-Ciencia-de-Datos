{
  "nbformat": 4,
  "nbformat_minor": 0,
  "metadata": {
    "kernelspec": {
      "display_name": "Python 3",
      "language": "python",
      "name": "python3"
    },
    "language_info": {
      "codemirror_mode": {
        "name": "ipython",
        "version": 3
      },
      "file_extension": ".py",
      "mimetype": "text/x-python",
      "name": "python",
      "nbconvert_exporter": "python",
      "pygments_lexer": "ipython3",
      "version": "3.8.5"
    },
    "colab": {
      "name": "linear_regression.ipynb",
      "provenance": []
    }
  },
  "cells": [
    {
      "cell_type": "markdown",
      "metadata": {
        "id": "P427Wo5kiC8D"
      },
      "source": [
        "## Regresión lineal vs KNN\n",
        "\n",
        "El método de regresión lineal o modelo lineal sienta las bases de un paradigma que surge con Carl Friedrich Gauss, quien a la edad de 18 años propuso el primer algoritmo para llevarla a cabo. El astrónomo Giusseppe Piazzi midió la posición de Ceres durante 40 días, posteriormente varios intentaron predecir la trayectoria de Ceres usando estos datos y las ecuaciones de movimiento de Kepler, sin embargo, debido a la dificultad en su resolución resultó que los cálculos más exactos fueron los realizados con Gauss a partir del método de regresión lineal. Este método parte del siguiente planteamiento:\n",
        "\n",
        "Dado un experimento donde controlamos $N$ variables independientes de naturaleza categórica o numérica se desea evaluar la relación de éstas con $M$ variables dependientes de naturaleza numérica. En el caso de la regresión lineal simple se tiene que $M=1$ y es el caso más comúnmente abordado, cuando $M>1$ se dice que se tiene un modelo de regresión lineal múltiple o multivariada. \n",
        "\n",
        "Esta variable dependiente está constituida por $n$ observaciones experimentales, en donde cada una está caracterizada a su vez por un vector de variables independientes. En el caso del dataset anterior tendríamos que la Altura y la Edad son las variables independientes, mientras que el Peso es la dependiente (¿tendría sentido de otra manera?)."
      ]
    },
    {
      "cell_type": "code",
      "metadata": {
        "id": "ktZE2t4BiC8K"
      },
      "source": [
        "# Loading libraries\n",
        "import matplotlib.pyplot as plt\n",
        "import numpy as np\n",
        "import pandas as pd\n",
        "from sklearn import datasets, linear_model\n",
        "from sklearn.metrics import mean_squared_error, r2_score"
      ],
      "execution_count": null,
      "outputs": []
    },
    {
      "cell_type": "code",
      "metadata": {
        "id": "1DgEk8_2iC8M",
        "outputId": "cf563d50-7789-4c8e-d79c-3fa99d1b3d54"
      },
      "source": [
        "# Loading datasets\n",
        "db = pd.read_csv(\"alturas_pesos.csv\")# Este dataset está junto con el notebook de KNN\n",
        "db"
      ],
      "execution_count": null,
      "outputs": [
        {
          "output_type": "execute_result",
          "data": {
            "text/html": [
              "<div>\n",
              "<style scoped>\n",
              "    .dataframe tbody tr th:only-of-type {\n",
              "        vertical-align: middle;\n",
              "    }\n",
              "\n",
              "    .dataframe tbody tr th {\n",
              "        vertical-align: top;\n",
              "    }\n",
              "\n",
              "    .dataframe thead th {\n",
              "        text-align: right;\n",
              "    }\n",
              "</style>\n",
              "<table border=\"1\" class=\"dataframe\">\n",
              "  <thead>\n",
              "    <tr style=\"text-align: right;\">\n",
              "      <th></th>\n",
              "      <th>ALTURA</th>\n",
              "      <th>EDAD</th>\n",
              "      <th>PESO</th>\n",
              "    </tr>\n",
              "  </thead>\n",
              "  <tbody>\n",
              "    <tr>\n",
              "      <th>0</th>\n",
              "      <td>5.00</td>\n",
              "      <td>45</td>\n",
              "      <td>77.0</td>\n",
              "    </tr>\n",
              "    <tr>\n",
              "      <th>1</th>\n",
              "      <td>5.11</td>\n",
              "      <td>26</td>\n",
              "      <td>47.0</td>\n",
              "    </tr>\n",
              "    <tr>\n",
              "      <th>2</th>\n",
              "      <td>5.60</td>\n",
              "      <td>30</td>\n",
              "      <td>55.0</td>\n",
              "    </tr>\n",
              "    <tr>\n",
              "      <th>3</th>\n",
              "      <td>5.90</td>\n",
              "      <td>34</td>\n",
              "      <td>59.0</td>\n",
              "    </tr>\n",
              "    <tr>\n",
              "      <th>4</th>\n",
              "      <td>4.80</td>\n",
              "      <td>40</td>\n",
              "      <td>72.0</td>\n",
              "    </tr>\n",
              "    <tr>\n",
              "      <th>5</th>\n",
              "      <td>5.80</td>\n",
              "      <td>36</td>\n",
              "      <td>60.0</td>\n",
              "    </tr>\n",
              "    <tr>\n",
              "      <th>6</th>\n",
              "      <td>5.30</td>\n",
              "      <td>19</td>\n",
              "      <td>40.0</td>\n",
              "    </tr>\n",
              "    <tr>\n",
              "      <th>7</th>\n",
              "      <td>5.80</td>\n",
              "      <td>28</td>\n",
              "      <td>60.0</td>\n",
              "    </tr>\n",
              "    <tr>\n",
              "      <th>8</th>\n",
              "      <td>5.50</td>\n",
              "      <td>23</td>\n",
              "      <td>45.0</td>\n",
              "    </tr>\n",
              "    <tr>\n",
              "      <th>9</th>\n",
              "      <td>5.60</td>\n",
              "      <td>32</td>\n",
              "      <td>58.0</td>\n",
              "    </tr>\n",
              "    <tr>\n",
              "      <th>10</th>\n",
              "      <td>5.50</td>\n",
              "      <td>38</td>\n",
              "      <td>NaN</td>\n",
              "    </tr>\n",
              "  </tbody>\n",
              "</table>\n",
              "</div>"
            ],
            "text/plain": [
              "    ALTURA  EDAD  PESO\n",
              "0     5.00    45  77.0\n",
              "1     5.11    26  47.0\n",
              "2     5.60    30  55.0\n",
              "3     5.90    34  59.0\n",
              "4     4.80    40  72.0\n",
              "5     5.80    36  60.0\n",
              "6     5.30    19  40.0\n",
              "7     5.80    28  60.0\n",
              "8     5.50    23  45.0\n",
              "9     5.60    32  58.0\n",
              "10    5.50    38   NaN"
            ]
          },
          "metadata": {
            "tags": []
          },
          "execution_count": 4
        }
      ]
    },
    {
      "cell_type": "markdown",
      "metadata": {
        "id": "02ciNVRoiC8N"
      },
      "source": [
        "## Exploración gráfica de los datos\n",
        "\n",
        "Si hacemos dos gráficos bidimensionales para cada variable independiente vs la variable dependiente podemos tratar de identificar alguna relación que nos recuerde alguna función matemática conocida."
      ]
    },
    {
      "cell_type": "code",
      "metadata": {
        "id": "vP_-E74yiC8O",
        "outputId": "9177e3cd-75ab-4868-fcb8-19cd9d11c1a2"
      },
      "source": [
        "# Plotting Height vs Weight\n",
        "\n",
        "prediction = db.iloc[10,0:2]# Data to predict\n",
        "data = db.iloc[0:10,:]# Data for modelling\n",
        "x_1 = data['ALTURA']\n",
        "x_2 = data['EDAD']\n",
        "y = data['PESO']\n",
        "\n",
        "# Plot outputs\n",
        "fig,ax = plt.subplots()\n",
        "ax.set_title(\"ALTURA VS PESO\")\n",
        "ax.scatter(x_1, y,  color='red')\n",
        "\n",
        "fig,ax1 = plt.subplots()\n",
        "ax1.set_title(\"EDAD VS PESO\")\n",
        "ax1.scatter(x_2, y,  color='blue')"
      ],
      "execution_count": null,
      "outputs": [
        {
          "output_type": "execute_result",
          "data": {
            "text/plain": [
              "<matplotlib.collections.PathCollection at 0x7f8385b58640>"
            ]
          },
          "metadata": {
            "tags": []
          },
          "execution_count": 45
        },
        {
          "output_type": "display_data",
          "data": {
            "image/png": "[encoded data removed]",
            "text/plain": [
              "<Figure size 432x288 with 1 Axes>"
            ]
          },
          "metadata": {
            "tags": [],
            "needs_background": "light"
          }
        },
        {
          "output_type": "display_data",
          "data": {
            "image/png": "[encoded data removed]",
            "text/plain": [
              "<Figure size 432x288 with 1 Axes>"
            ]
          },
          "metadata": {
            "tags": [],
            "needs_background": "light"
          }
        }
      ]
    },
    {
      "cell_type": "markdown",
      "metadata": {
        "id": "pk6MN3kdiC8O"
      },
      "source": [
        "Debido a que la variable de Edad y Peso parecen estar linealmente correlacionadas, construiremos primero el modelo sólo considerando a esta. Para esto primero dividimos nuestros datos en conjunto de prueba y entrenamiento."
      ]
    },
    {
      "cell_type": "code",
      "metadata": {
        "id": "iCjGxJ-KiC8P"
      },
      "source": [
        "train = data.iloc[0:7,:]# Training set\n",
        "x_train = train.iloc[:,1:2]# Seleccionando la columna de Edad\n",
        "y_train = train.iloc[:,2]# Seleccionando la columna de Peso\n",
        "\n",
        "test = data.iloc[7:10,:]# Test set\n",
        "x_test = test.iloc[:,1:2]\n",
        "y_test = test.iloc[:,2]"
      ],
      "execution_count": null,
      "outputs": []
    },
    {
      "cell_type": "markdown",
      "metadata": {
        "id": "y8ziTC1JiC8P"
      },
      "source": [
        "Ajustamos el modelo lineal a los datos de entrenamiento (de momento dejemos el algoritmo como caja negra) y los ponemos a prueba sobre los datos de prueba."
      ]
    },
    {
      "cell_type": "code",
      "metadata": {
        "id": "PpNO1v2MiC8P",
        "outputId": "f41edfb3-ef7f-429c-b5aa-1e1c849482a8"
      },
      "source": [
        "# Create linear regression object\n",
        "regr = linear_model.LinearRegression()\n",
        "\n",
        "# Train the model using the training sets\n",
        "regr.fit(x_train, y_train)\n",
        "\n",
        "# Make predictions using the testing set\n",
        "y_pred = regr.predict(x_test)\n",
        "y1_pred = regr.predict(x_train)\n",
        "\n",
        "# The coefficients\n",
        "print('Coefficients: \\n', regr.coef_)\n",
        "# The mean squared error\n",
        "print('Mean squared error (over testing set): %.2f'\n",
        "      % mean_squared_error(y_test, y_pred))# This is equivalente to RMSE from las notebook of KNN\n",
        "# The coefficient of determination: 1 is perfect prediction\n",
        "print('Coefficient of determination (over testing set): %.2f'\n",
        "      % r2_score(y_test, y_pred))\n",
        "\n",
        "fig,ax2 = plt.subplots()\n",
        "ax2.scatter(x_test, y_test,  color='black')\n",
        "ax2.plot(x_test, y_pred, color='orange', linewidth=3)"
      ],
      "execution_count": null,
      "outputs": [
        {
          "output_type": "stream",
          "text": [
            "Coefficients: \n",
            " [1.46998124]\n",
            "Mean squared error (over testing set): 24.91\n",
            "Coefficient of determination (over testing set): 0.44\n"
          ],
          "name": "stdout"
        },
        {
          "output_type": "execute_result",
          "data": {
            "text/plain": [
              "[<matplotlib.lines.Line2D at 0x7f838613ab50>]"
            ]
          },
          "metadata": {
            "tags": []
          },
          "execution_count": 62
        },
        {
          "output_type": "display_data",
          "data": {
            "image/png": "[encoded data removed]",
            "text/plain": [
              "<Figure size 432x288 with 1 Axes>"
            ]
          },
          "metadata": {
            "tags": [],
            "needs_background": "light"
          }
        }
      ]
    },
    {
      "cell_type": "markdown",
      "metadata": {
        "id": "q1T9s9z-iC8Z"
      },
      "source": [
        "En el gráfico anterior podemos observar que sobre el conjunto de prueba:\n",
        "\n",
        "0. La pendiente de la recta ajustada es positiva.\n",
        "1. los tres puntos predichos tienen un RMSE (Residuals Mean Squared Error) de 24.91 el cual es un valor mayor que cualquiera de los obtenidos para los distintos valores de K de KNN (ver notebook de KNN). \n",
        "2. El coeficiente de determinación o $r^2$ representa el porcentaje de variación intrínseca de los datos (porcentaje de varianza) que está siendo explicado o rescatado por el modelo. En este caso es de 44%.\n",
        "\n",
        "Sin embargo, cómo son estas mismas métricas obtenidas sobre el conjunto de entrenamiento:"
      ]
    },
    {
      "cell_type": "code",
      "metadata": {
        "id": "3I6LcTd2iC8a",
        "outputId": "d10c99c7-250d-4388-a430-103f0f49692b"
      },
      "source": [
        "print('Coefficients: \\n', regr.coef_)\n",
        "# The mean squared error\n",
        "print('Mean squared error (over training set): %.2f'\n",
        "      % mean_squared_error(y_train, y1_pred))\n",
        "# The coefficient of determination: 1 is perfect prediction\n",
        "print('Coefficient of determination (over training set): %.2f'\n",
        "      % r2_score(y_train, y1_pred))\n",
        "\n",
        "fig,ax3 = plt.subplots()\n",
        "ax3.scatter(x_train, y_train,  color='black')\n",
        "ax3.plot(x_train, y1_pred, color='violet', linewidth=3)\n",
        "\n",
        "plt.show()"
      ],
      "execution_count": null,
      "outputs": [
        {
          "output_type": "stream",
          "text": [
            "Coefficients: \n",
            " [1.46998124]\n",
            "Mean squared error (over training set): 3.79\n",
            "Coefficient of determination (over training set): 0.97\n"
          ],
          "name": "stdout"
        },
        {
          "output_type": "display_data",
          "data": {
            "image/png": "[encoded data removed]",
            "text/plain": [
              "<Figure size 432x288 with 1 Axes>"
            ]
          },
          "metadata": {
            "tags": [],
            "needs_background": "light"
          }
        }
      ]
    },
    {
      "cell_type": "markdown",
      "metadata": {
        "id": "wt6uJkpOiC8b"
      },
      "source": [
        "Podemos observar que:\n",
        "\n",
        "0. La pendiente de la recta es la misma y que de hecho su ajuste proviene de estos datos.\n",
        "1. El RMSE es menor que cualquiera obtenido para alguna de los valores de K probados en el ejemplo de KNN.\n",
        "2. El coeficiente de determinación es del 97%.\n",
        "\n",
        "Esto es interesante, ya que uno esperaría que para unos valores tan \"buenos\" de RMSE y $r^2$ el modelo se comportaría al menos así de bien en el conjunto de prueba, sin embargo esto no es así. Por lo que puede ocurrir que en el conjunto de entrenamiento estemos sufriendo de lo que se conoce como \"overfitting\" o sobreajuste y por lo tanto el modelo está demasiado \"apegado\" a los datos y nuevas observaciones caen demasiado lejos de su horizonte predictivo.\n",
        "\n",
        "Si predecimos el valor de peso dada la edad de prueba tenemos:"
      ]
    },
    {
      "cell_type": "code",
      "metadata": {
        "id": "YWclPH3yiC8b",
        "outputId": "15cfdeb6-8ad1-4ca5-eb71-d1805c879c29"
      },
      "source": [
        "prediction[1]# Eligiendo el peso de prueba"
      ],
      "execution_count": null,
      "outputs": [
        {
          "output_type": "execute_result",
          "data": {
            "text/plain": [
              "38.0"
            ]
          },
          "metadata": {
            "tags": []
          },
          "execution_count": 65
        }
      ]
    },
    {
      "cell_type": "code",
      "metadata": {
        "id": "JByXyWbyiC8b",
        "outputId": "5a7bd711-fcdd-455b-afd4-19097e91e009"
      },
      "source": [
        "regr.predict(prediction[1].reshape(1,-1))# Obteniendo predicción a partir del Peso"
      ],
      "execution_count": null,
      "outputs": [
        {
          "output_type": "execute_result",
          "data": {
            "text/plain": [
              "array([66.13133208])"
            ]
          },
          "metadata": {
            "tags": []
          },
          "execution_count": 66
        }
      ]
    },
    {
      "cell_type": "markdown",
      "metadata": {
        "id": "WKx8rKX5iC8e"
      },
      "source": [
        "Ahora bien ¿qué ocurre si construimos la regresión considerando Altura y Edad?:"
      ]
    },
    {
      "cell_type": "code",
      "metadata": {
        "id": "qnEg-2b7iC8e",
        "outputId": "19941ceb-bdef-479c-b15d-54ca007d97d0"
      },
      "source": [
        "train = data.iloc[0:7,:]# Training set\n",
        "x_train = train.iloc[:,0:2]# Seleccionando la columna de Edad y la de Altura\n",
        "y_train = train.iloc[:,2]# Seleccionando la columna de Peso\n",
        "\n",
        "test = data.iloc[7:10,:]# Test set\n",
        "x_test = test.iloc[:,0:2]\n",
        "y_test = test.iloc[:,2]\n",
        "\n",
        "# Create linear regression object\n",
        "regr = linear_model.LinearRegression()\n",
        "\n",
        "# Train the model using the training sets\n",
        "regr.fit(x_train, y_train)\n",
        "\n",
        "# Make predictions using the testing set\n",
        "y_pred = regr.predict(x_test)\n",
        "y1_pred = regr.predict(x_train)\n",
        "\n",
        "# The coefficients\n",
        "print('Coefficients: \\n', regr.coef_)\n",
        "# The mean squared error\n",
        "print('Mean squared error (over testing set): %.2f'\n",
        "      % mean_squared_error(y_test, y_pred))# This is equivalente to RMSE from las notebook of KNN\n",
        "# The coefficient of determination: 1 is perfect prediction\n",
        "print('Coefficient of determination (over testing set): %.2f'\n",
        "      % r2_score(y_test, y_pred))\n",
        "print('Coefficients: \\n', regr.coef_)\n",
        "# The mean squared error\n",
        "print('Mean squared error (over training set): %.2f'\n",
        "      % mean_squared_error(y_train, y1_pred))\n",
        "# The coefficient of determination: 1 is perfect prediction\n",
        "print('Coefficient of determination (over training set): %.2f'\n",
        "      % r2_score(y_train, y1_pred))\n",
        "print(\"\")\n",
        "print(\"Predicción considerando Altura y Edad:\")\n",
        "print(prediction)\n",
        "print(regr.predict(prediction.to_numpy().reshape(1, -1)))"
      ],
      "execution_count": null,
      "outputs": [
        {
          "output_type": "stream",
          "text": [
            "Coefficients: \n",
            " [-3.48629862  1.43555431]\n",
            "Mean squared error (over testing set): 34.07\n",
            "Coefficient of determination (over testing set): 0.23\n",
            "Coefficients: \n",
            " [-3.48629862  1.43555431]\n",
            "Mean squared error (over training set): 2.04\n",
            "Coefficient of determination (over training set): 0.99\n",
            "\n",
            "Predicción considerando Altura y Edad:\n",
            "ALTURA     5.5\n",
            "EDAD      38.0\n",
            "Name: 10, dtype: float64\n",
            "[65.46121708]\n"
          ],
          "name": "stdout"
        }
      ]
    },
    {
      "cell_type": "markdown",
      "metadata": {
        "id": "WdGUJGxPiC8f"
      },
      "source": [
        "Podemos observar que los valores de RMSE y $r^2$ tienen cambios interesantes ya que sobre el conjunto de prueba el modelo se desempeña peor considerando la Edad y la Altura, que sólo considerando la Edad. Mientras que sobre el conjunto de entrenamiento, tanto el RMSE como la $r^2$ mejoran en comparación con el caso antes analizado.\n",
        "\n",
        "**MORALEJA: No siempre (de hecho casi nunca) querremos valores de $r^2$ muy altos combinados con valores de RMSE bajos ya que estaremos cayendo probablemente en un caso de \"OVERFITTING\" o sobreajuste. A veces menos es más.**\n",
        "\n",
        "**REFLEXIÓN: ¿Es mejor utilizar KNN o Regresión lineal para este problema?**\n",
        "\n",
        "No se pierda el próximo episodio en donde explicaremos a detalle el algoritmo de la regresión lineal, es decir el método de Mínimos Cuadrados para que se entienda de dónde salen los números antes mostrados. Aunado a esto les recomiendo consultar la siguiente liga en donde hablan de 30 aspectos importantes de la regresión lineal: https://www.analyticsvidhya.com/blog/2017/07/30-questions-to-test-a-data-scientist-on-linear-regression/?utm_source=feed&utm_medium=feed-articles&utm_campaign=feed"
      ]
    }
  ]
}